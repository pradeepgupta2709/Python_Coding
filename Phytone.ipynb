{
 "cells": [
  {
   "cell_type": "markdown",
   "id": "26c07dc6",
   "metadata": {},
   "source": [
    "<ul>Python<ul>"
   ]
  },
  {
   "cell_type": "markdown",
   "id": "3820f28c",
   "metadata": {},
   "source": [
    "<ul>      List-\n",
    "      1>List is a non-homogeneous data structure that stores the elements in single row and multiple rows and columns.\n",
    "      2>List can be represented by [ ]\n",
    "      3>List allows duplicate elements\n",
    "      4>List can be created using list() function\n",
    "      5>List is mutable i.e we can make any changes in list.\n",
    "      Example: [1, 2, 3, 4, 5]   <ul>"
   ]
  },
  {
   "cell_type": "code",
   "execution_count": null,
   "id": "47b30f74",
   "metadata": {},
   "outputs": [],
   "source": [
    "#List-\n",
    "     1>List is a non-homogeneous data structure that stores the elements in single row and multiple rows and columns.\n",
    "     2>List can be represented by [ ] \n",
    "     3>List allows duplicate elements \n",
    "     4>List can be created using list() function \n",
    "     5>List is mutable i.e we can make any changes in list. Example: [1, 2, 3, 4, 5]\n"
   ]
  },
  {
   "cell_type": "code",
   "execution_count": null,
   "id": "4d92b0d2",
   "metadata": {},
   "outputs": [],
   "source": [
    "#Tuple-\n",
    "       1>Tuple is also a non-homogeneous data structure that stores single row and multiple rows and columns\n",
    "       2>Tuple can be represented by ()\n",
    "       3>Tuple allows duplicate elements\n",
    "       4>Tuple can be created using tuple() function\n",
    "       5>Tuple  is immutable i.e we can not make any changes in tuple\n",
    "       Example: (1, 2, 3, 4, 5)"
   ]
  },
  {
   "cell_type": "code",
   "execution_count": null,
   "id": "a640316f",
   "metadata": {},
   "outputs": [],
   "source": [
    "#sets-\n",
    "      1>Set data structure is also non-homogeneous data structure but stores in single row\n",
    "      2>Set can be represented by { }\n",
    "      3>Set will not allow duplicate elements\n",
    "      4>Set can be created using set() function\n",
    "      5>Set is mutable i.e we can make any changes in set. But elements are not duplicated.\n",
    "      Example: {1, 2, 3, 4, 5}"
   ]
  },
  {
   "cell_type": "code",
   "execution_count": null,
   "id": "281c4b11",
   "metadata": {},
   "outputs": [],
   "source": [
    "#Dictionary-\n",
    "      1>Dictionary  is also non-homogeneous data structure but stores in single row\n",
    "      2>Dictionary can be represented by { }\n",
    "      3>Set will not allow duplicate elements and dictionary doesn’t allow duplicate keys.\n",
    "      4>Dictionary can be created using dict() function.\n",
    "      5>Dictionary is mutable. But Keys are not duplicated.\n",
    "      Example: {1, 2, 3, 4, 5}"
   ]
  }
 ],
 "metadata": {
  "kernelspec": {
   "display_name": "Python 3 (ipykernel)",
   "language": "python",
   "name": "python3"
  },
  "language_info": {
   "codemirror_mode": {
    "name": "ipython",
    "version": 3
   },
   "file_extension": ".py",
   "mimetype": "text/x-python",
   "name": "python",
   "nbconvert_exporter": "python",
   "pygments_lexer": "ipython3",
   "version": "3.9.12"
  }
 },
 "nbformat": 4,
 "nbformat_minor": 5
}
