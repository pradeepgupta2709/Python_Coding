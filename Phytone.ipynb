{
 "cells": [
  {
   "cell_type": "markdown",
   "id": "26c07dc6",
   "metadata": {},
   "source": [
    "<ul>Python<ul>"
   ]
  },
  {
   "cell_type": "markdown",
   "id": "3820f28c",
   "metadata": {},
   "source": [
    "<ul>      List-\n",
    "      1>List is a non-homogeneous data structure that stores the elements in single row and multiple rows and columns.\n",
    "      2>List can be represented by [ ]\n",
    "      3>List allows duplicate elements\n",
    "      4>List can be created using list() function\n",
    "      5>List is mutable i.e we can make any changes in list.\n",
    "      Example: [1, 2, 3, 4, 5]   <ul>"
   ]
  },
  {
   "cell_type": "code",
   "execution_count": null,
   "id": "47b30f74",
   "metadata": {},
   "outputs": [],
   "source": [
    "#List-\n",
    "     1>List is a non-homogeneous data structure that stores the elements in single row and multiple rows and columns.\n",
    "     2>List can be represented by [ ] \n",
    "     3>List allows duplicate elements \n",
    "     4>List can be created using list() function \n",
    "     5>List is mutable i.e we can make any changes in list. Example: [1, 2, 3, 4, 5]\n"
   ]
  },
  {
   "cell_type": "code",
   "execution_count": null,
   "id": "4d92b0d2",
   "metadata": {},
   "outputs": [],
   "source": [
    "#Tuple-\n",
    "       1>Tuple is also a non-homogeneous data structure that stores single row and multiple rows and columns\n",
    "       2>Tuple can be represented by ()\n",
    "       3>Tuple allows duplicate elements\n",
    "       4>Tuple can be created using tuple() function\n",
    "       5>Tuple  is immutable i.e we can not make any changes in tuple\n",
    "       Example: (1, 2, 3, 4, 5)"
   ]
  },
  {
   "cell_type": "code",
   "execution_count": null,
   "id": "a640316f",
   "metadata": {},
   "outputs": [],
   "source": [
    "#sets-\n",
    "      1>Set data structure is also non-homogeneous data structure but stores in single row\n",
    "      2>Set can be represented by { }\n",
    "      3>Set will not allow duplicate elements\n",
    "      4>Set can be created using set() function\n",
    "      5>Set is mutable i.e we can make any changes in set. But elements are not duplicated.\n",
    "      Example: {1, 2, 3, 4, 5}"
   ]
  },
  {
   "cell_type": "code",
   "execution_count": null,
   "id": "281c4b11",
   "metadata": {},
   "outputs": [],
   "source": [
    "#Dictionary-\n",
    "      1>Dictionary  is also non-homogeneous data structure but stores in single row\n",
    "      2>Dictionary can be represented by { }\n",
    "      3>Set will not allow duplicate elements and dictionary doesn’t allow duplicate keys.\n",
    "      4>Dictionary can be created using dict() function.\n",
    "      5>Dictionary is mutable. But Keys are not duplicated.\n",
    "      Example: {1, 2, 3, 4, 5}"
   ]
  },
  {
   "cell_type": "code",
   "execution_count": 1,
   "id": "faa89419",
   "metadata": {},
   "outputs": [
    {
     "data": {
      "text/plain": [
       "9"
      ]
     },
     "execution_count": 1,
     "metadata": {},
     "output_type": "execute_result"
    }
   ],
   "source": [
    "3**2"
   ]
  },
  {
   "cell_type": "code",
   "execution_count": 3,
   "id": "908d1bdb",
   "metadata": {},
   "outputs": [
    {
     "data": {
      "text/plain": [
       "1"
      ]
     },
     "execution_count": 3,
     "metadata": {},
     "output_type": "execute_result"
    }
   ],
   "source": [
    "231%10"
   ]
  },
  {
   "cell_type": "code",
   "execution_count": 4,
   "id": "1979e557",
   "metadata": {},
   "outputs": [
    {
     "data": {
      "text/plain": [
       "23"
      ]
     },
     "execution_count": 4,
     "metadata": {},
     "output_type": "execute_result"
    }
   ],
   "source": [
    "231//10"
   ]
  },
  {
   "cell_type": "code",
   "execution_count": 24,
   "id": "0047c1a3",
   "metadata": {},
   "outputs": [
    {
     "name": "stdout",
     "output_type": "stream",
     "text": [
      "234\n",
      "24\n"
     ]
    }
   ],
   "source": [
    "#234=2*3*4=24\n",
    "i=int(input())\n",
    "while i>0:\n",
    "    prod=prod*(i%10)\n",
    "    i=i//10\n",
    "print(prod)"
   ]
  },
  {
   "cell_type": "code",
   "execution_count": 2,
   "id": "d39f931b",
   "metadata": {},
   "outputs": [
    {
     "name": "stdout",
     "output_type": "stream",
     "text": [
      "231\n",
      "36\n"
     ]
    }
   ],
   "source": [
    "#EX-231-(2^3+3^3+1^3)=36\n",
    "i=int(input())\n",
    "sum=0\n",
    "while i >0:\n",
    "    sum=sum+(i%10)**3\n",
    "    i=i//10\n",
    "print(sum)"
   ]
  },
  {
   "cell_type": "code",
   "execution_count": 14,
   "id": "dfc871e1",
   "metadata": {},
   "outputs": [
    {
     "name": "stdout",
     "output_type": "stream",
     "text": [
      "153\n",
      "Amstrang\n"
     ]
    }
   ],
   "source": [
    "#Amstrang no -153-1^3+5^3+3^3=153-yes\n",
    "i=int(input())\n",
    "count=0\n",
    "n=i\n",
    "while (i>0):\n",
    "    i=i//10\n",
    "    count=count+1\n",
    "sum=0\n",
    "i=n\n",
    "while(i>0):\n",
    "    digit=i%10\n",
    "    x=1\n",
    "    prod=1\n",
    "    while(x<=count):\n",
    "        prod=prod*digit\n",
    "        x=x+1\n",
    "    sum=sum+prod\n",
    "    i=i//10\n",
    "if n==sum:\n",
    "    print('Amstrang')\n",
    "else:\n",
    "    print('No')"
   ]
  },
  {
   "cell_type": "code",
   "execution_count": 23,
   "id": "dd4e2eb3",
   "metadata": {},
   "outputs": [
    {
     "name": "stdout",
     "output_type": "stream",
     "text": [
      "153\n",
      "yes\n"
     ]
    }
   ],
   "source": [
    "#Amstrang no -153-1^3+5^3+3^3=153-yes\n",
    "i=int(input())\n",
    "n=i\n",
    "count=0\n",
    "while(i>0):\n",
    "    i=i//10\n",
    "    count=count+1\n",
    "i=n\n",
    "sum=0\n",
    "while (i>0):\n",
    "    sum=sum+(i%10)**count\n",
    "    i=i//10\n",
    "if n == sum:\n",
    "    print('yes')\n",
    "else:\n",
    "    print('no')"
   ]
  },
  {
   "cell_type": "code",
   "execution_count": null,
   "id": "e375eeed",
   "metadata": {},
   "outputs": [],
   "source": []
  }
 ],
 "metadata": {
  "kernelspec": {
   "display_name": "Python 3 (ipykernel)",
   "language": "python",
   "name": "python3"
  },
  "language_info": {
   "codemirror_mode": {
    "name": "ipython",
    "version": 3
   },
   "file_extension": ".py",
   "mimetype": "text/x-python",
   "name": "python",
   "nbconvert_exporter": "python",
   "pygments_lexer": "ipython3",
   "version": "3.9.12"
  }
 },
 "nbformat": 4,
 "nbformat_minor": 5
}
