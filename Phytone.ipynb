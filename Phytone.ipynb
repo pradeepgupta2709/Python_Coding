{
 "cells": [
  {
   "cell_type": "markdown",
   "id": "26c07dc6",
   "metadata": {},
   "source": [
    "<ul>Python<ul>"
   ]
  },
  {
   "cell_type": "markdown",
   "id": "3820f28c",
   "metadata": {},
   "source": [
    "<ul>      List-\n",
    "      1>List is a non-homogeneous data structure that stores the elements in single row and multiple rows and columns.\n",
    "      2>List can be represented by [ ]\n",
    "      3>List allows duplicate elements\n",
    "      4>List can be created using list() function\n",
    "      5>List is mutable i.e we can make any changes in list.\n",
    "      Example: [1, 2, 3, 4, 5]   <ul>"
   ]
  },
  {
   "cell_type": "code",
   "execution_count": null,
   "id": "47b30f74",
   "metadata": {},
   "outputs": [],
   "source": [
    "#List-\n",
    "     1>List is a non-homogeneous data structure that stores the elements in single row and multiple rows and columns.\n",
    "     2>List can be represented by [ ] \n",
    "     3>List allows duplicate elements \n",
    "     4>List can be created using list() function \n",
    "     5>List is mutable i.e we can make any changes in list. Example: [1, 2, 3, 4, 5]\n"
   ]
  },
  {
   "cell_type": "code",
   "execution_count": null,
   "id": "4d92b0d2",
   "metadata": {},
   "outputs": [],
   "source": [
    "#Tuple-\n",
    "       1>Tuple is also a non-homogeneous data structure that stores single row and multiple rows and columns\n",
    "       2>Tuple can be represented by ()\n",
    "       3>Tuple allows duplicate elements\n",
    "       4>Tuple can be created using tuple() function\n",
    "       5>Tuple  is immutable i.e we can not make any changes in tuple\n",
    "       Example: (1, 2, 3, 4, 5)"
   ]
  },
  {
   "cell_type": "code",
   "execution_count": null,
   "id": "a640316f",
   "metadata": {},
   "outputs": [],
   "source": [
    "#sets-\n",
    "      1>Set data structure is also non-homogeneous data structure but stores in single row\n",
    "      2>Set can be represented by { }\n",
    "      3>Set will not allow duplicate elements\n",
    "      4>Set can be created using set() function\n",
    "      5>Set is mutable i.e we can make any changes in set. But elements are not duplicated.\n",
    "      Example: {1, 2, 3, 4, 5}"
   ]
  },
  {
   "cell_type": "code",
   "execution_count": null,
   "id": "281c4b11",
   "metadata": {},
   "outputs": [],
   "source": [
    "#Dictionary-\n",
    "      1>Dictionary  is also non-homogeneous data structure but stores in single row\n",
    "      2>Dictionary can be represented by { }\n",
    "      3>Set will not allow duplicate elements and dictionary doesn’t allow duplicate keys.\n",
    "      4>Dictionary can be created using dict() function.\n",
    "      5>Dictionary is mutable. But Keys are not duplicated.\n",
    "      Example: {1, 2, 3, 4, 5}"
   ]
  },
  {
   "cell_type": "code",
   "execution_count": 1,
   "id": "a7f4c4b1",
   "metadata": {},
   "outputs": [
    {
     "data": {
      "text/plain": [
       "9"
      ]
     },
     "execution_count": 1,
     "metadata": {},
     "output_type": "execute_result"
    }
   ],
   "source": [
    "3**2"
   ]
  },
  {
   "cell_type": "code",
   "execution_count": 3,
   "id": "b6d50927",
   "metadata": {},
   "outputs": [
    {
     "data": {
      "text/plain": [
       "1"
      ]
     },
     "execution_count": 3,
     "metadata": {},
     "output_type": "execute_result"
    }
   ],
   "source": [
    "231%10"
   ]
  },
  {
   "cell_type": "code",
   "execution_count": 4,
   "id": "3b140a3e",
   "metadata": {},
   "outputs": [
    {
     "data": {
      "text/plain": [
       "23"
      ]
     },
     "execution_count": 4,
     "metadata": {},
     "output_type": "execute_result"
    }
   ],
   "source": [
    "231//10"
   ]
  },
  {
   "cell_type": "code",
   "execution_count": 24,
   "id": "e1cd4d01",
   "metadata": {},
   "outputs": [
    {
     "name": "stdout",
     "output_type": "stream",
     "text": [
      "234\n",
      "24\n"
     ]
    }
   ],
   "source": [
    "#234=2*3*4=24\n",
    "i=int(input())\n",
    "while i>0:\n",
    "    prod=prod*(i%10)\n",
    "    i=i//10\n",
    "print(prod)"
   ]
  },
  {
   "cell_type": "code",
   "execution_count": 2,
   "id": "ef17e1e8",
   "metadata": {},
   "outputs": [
    {
     "name": "stdout",
     "output_type": "stream",
     "text": [
      "231\n",
      "36\n"
     ]
    }
   ],
   "source": [
    "#EX-231-(2^3+3^3+1^3)=36\n",
    "i=int(input())\n",
    "sum=0\n",
    "while i >0:\n",
    "    sum=sum+(i%10)**3\n",
    "    i=i//10\n",
    "print(sum)"
   ]
  },
  {
   "cell_type": "code",
   "execution_count": 14,
   "id": "12c0abfa",
   "metadata": {},
   "outputs": [
    {
     "name": "stdout",
     "output_type": "stream",
     "text": [
      "153\n",
      "Amstrang\n"
     ]
    }
   ],
   "source": [
    "#Amstrang no -153-1^3+5^3+3^3=153-yes\n",
    "i=int(input())\n",
    "count=0\n",
    "n=i\n",
    "while (i>0):\n",
    "    i=i//10\n",
    "    count=count+1\n",
    "sum=0\n",
    "i=n\n",
    "while(i>0):\n",
    "    digit=i%10\n",
    "    x=1\n",
    "    prod=1\n",
    "    while(x<=count):\n",
    "        prod=prod*digit\n",
    "        x=x+1\n",
    "    sum=sum+prod\n",
    "    i=i//10\n",
    "if n==sum:\n",
    "    print('Amstrang')\n",
    "else:\n",
    "    print('No')"
   ]
  },
  {
   "cell_type": "code",
   "execution_count": 23,
   "id": "c30d9f64",
   "metadata": {},
   "outputs": [
    {
     "name": "stdout",
     "output_type": "stream",
     "text": [
      "153\n",
      "yes\n"
     ]
    }
   ],
   "source": [
    "#Amstrang no -153-1^3+5^3+3^3=153-yes\n",
    "i=int(input())\n",
    "n=i\n",
    "count=0\n",
    "while(i>0):\n",
    "    i=i//10\n",
    "    count=count+1\n",
    "i=n\n",
    "sum=0\n",
    "while (i>0):\n",
    "    sum=sum+(i%10)**count\n",
    "    i=i//10\n",
    "if n == sum:\n",
    "    print('yes')\n",
    "else:\n",
    "    print('no')"
   ]
  },
  {
   "cell_type": "code",
   "execution_count": 25,
   "id": "d4dcaef9",
   "metadata": {},
   "outputs": [
    {
     "name": "stdout",
     "output_type": "stream",
     "text": [
      "237\n",
      "732\n"
     ]
    }
   ],
   "source": [
    "#Reverse-237=732\n",
    "i=int(input())\n",
    "rev=0\n",
    "while i>0:\n",
    "    rev=(rev*10)+(i%10)\n",
    "    i=i//10\n",
    "print(rev)"
   ]
  },
  {
   "cell_type": "code",
   "execution_count": 26,
   "id": "d1fe7f54",
   "metadata": {},
   "outputs": [
    {
     "name": "stdout",
     "output_type": "stream",
     "text": [
      "525\n",
      "Palidrome no\n"
     ]
    }
   ],
   "source": [
    "#palidrome no-525-525\n",
    "i=int(input())\n",
    "rev=0\n",
    "n=i\n",
    "while i >0:\n",
    "    rev=(rev*10)+(i%10)\n",
    "    i=i//10\n",
    "if (rev==n):\n",
    "    print(\"Palidrome no\")\n",
    "else:\n",
    "    print(\"Not A Palidrome no\")"
   ]
  },
  {
   "cell_type": "code",
   "execution_count": 27,
   "id": "7eec061d",
   "metadata": {},
   "outputs": [
    {
     "name": "stdout",
     "output_type": "stream",
     "text": [
      "13\n",
      "This is prime no\n"
     ]
    }
   ],
   "source": [
    "#Check given no prime or not ;Ex-13=13 can be divide by 1 and 13 only\n",
    "n=int(input())\n",
    "i=1\n",
    "count=0\n",
    "while n >= i:\n",
    "    if n%i ==0:\n",
    "        count=count+1\n",
    "    i=i+1\n",
    "if count==2:\n",
    "    print('This is prime no')\n",
    "else:\n",
    "    print('composite no')"
   ]
  },
  {
   "cell_type": "code",
   "execution_count": 1,
   "id": "bfa139fe",
   "metadata": {},
   "outputs": [
    {
     "name": "stdout",
     "output_type": "stream",
     "text": [
      "5\n",
      "120\n"
     ]
    }
   ],
   "source": [
    "#Factorical-Ex-5=5*4*3*2*1\n",
    "i=int(input())\n",
    "F=1\n",
    "while i>0:\n",
    "    F=F*(i%10)\n",
    "    i=i-1\n",
    "print(F)"
   ]
  },
  {
   "cell_type": "code",
   "execution_count": 2,
   "id": "0bec1d9b",
   "metadata": {},
   "outputs": [
    {
     "name": "stdout",
     "output_type": "stream",
     "text": [
      "* * * * * \n",
      "* * * * \n",
      "* * * \n",
      "* * \n",
      "* \n"
     ]
    }
   ],
   "source": [
    "#Nasted Loop for Star pattern\n",
    "i=5\n",
    "while i>0:\n",
    "    j=1\n",
    "    while j<=i:\n",
    "        print(\"*\",end=\" \")\n",
    "        j=j+1\n",
    "    print()\n",
    "    i=i-1"
   ]
  },
  {
   "cell_type": "code",
   "execution_count": 3,
   "id": "d83fb399",
   "metadata": {},
   "outputs": [
    {
     "name": "stdout",
     "output_type": "stream",
     "text": [
      "\n",
      "* \n",
      "* * \n",
      "* * * \n",
      "* * * * \n",
      "* * * * * \n"
     ]
    }
   ],
   "source": [
    "n=5\n",
    "for i in range(n+1):\n",
    "    for j in range(i):\n",
    "        print('*',end=' ')\n",
    "    print( )"
   ]
  },
  {
   "cell_type": "code",
   "execution_count": 4,
   "id": "0751b0ae",
   "metadata": {},
   "outputs": [
    {
     "name": "stdout",
     "output_type": "stream",
     "text": [
      "* \n",
      "* * \n",
      "* * * \n",
      "* * * * \n",
      "* * * * * \n"
     ]
    }
   ],
   "source": [
    "#Nasted Loop for Star pattern\n",
    "i=1\n",
    "while i <=5:\n",
    "    j=1\n",
    "    while j<=i:\n",
    "        print(\"*\",end=\" \")\n",
    "        j=j+1\n",
    "    print()\n",
    "    i=i+1"
   ]
  },
  {
   "cell_type": "code",
   "execution_count": 5,
   "id": "c5625bb5",
   "metadata": {},
   "outputs": [
    {
     "name": "stdout",
     "output_type": "stream",
     "text": [
      "      * \n",
      "      * * \n",
      "      * * * \n",
      "      * * * * \n",
      "      * * * * * \n"
     ]
    }
   ],
   "source": [
    "n=5\n",
    "for i in range(n):\n",
    "    for j in range(1,n-1):\n",
    "        print(\" \",end =\" \")\n",
    "    for k in range(0,i+1):\n",
    "        print(\"*\",end=' ')\n",
    "    print( )"
   ]
  },
  {
   "cell_type": "code",
   "execution_count": 6,
   "id": "533ad292",
   "metadata": {},
   "outputs": [
    {
     "name": "stdout",
     "output_type": "stream",
     "text": [
      "1 \n",
      "1 2 \n",
      "1 2 3 \n",
      "1 2 3 4 \n",
      "1 2 3 4 5 \n"
     ]
    }
   ],
   "source": [
    "i=1\n",
    "while i<=5:\n",
    "    j=1\n",
    "    while j<=i:\n",
    "        print(j,end=\" \")\n",
    "        j=j+1\n",
    "    print()\n",
    "    i=i+1"
   ]
  },
  {
   "cell_type": "code",
   "execution_count": 7,
   "id": "fb631b91",
   "metadata": {},
   "outputs": [
    {
     "name": "stdout",
     "output_type": "stream",
     "text": [
      "1 \n",
      "2 2 \n",
      "3 3 3 \n",
      "4 4 4 4 \n",
      "5 5 5 5 5 \n"
     ]
    }
   ],
   "source": [
    "i=1\n",
    "while i<=5:\n",
    "    j=1\n",
    "    while j<=i:\n",
    "        print(i,end=\" \")\n",
    "        j+=1\n",
    "    print()\n",
    "    i+=1"
   ]
  },
  {
   "cell_type": "code",
   "execution_count": 8,
   "id": "224c7f63",
   "metadata": {},
   "outputs": [
    {
     "name": "stdout",
     "output_type": "stream",
     "text": [
      "- - - - * \n",
      "- - - * * \n",
      "- - * * * \n",
      "- * * * * \n",
      "* * * * * \n"
     ]
    }
   ],
   "source": [
    "i=1\n",
    "while i<=5:\n",
    "    b=1\n",
    "    while (b<=5-i):\n",
    "        print(\"-\",end=\" \")\n",
    "        b+=1\n",
    "    j=1\n",
    "    while j<=i:\n",
    "        print(\"*\",end=\" \")\n",
    "        j+=1\n",
    "    print()\n",
    "    i+=1 "
   ]
  },
  {
   "cell_type": "code",
   "execution_count": 9,
   "id": "041acf54",
   "metadata": {},
   "outputs": [
    {
     "name": "stdout",
     "output_type": "stream",
     "text": [
      "- - - - 1 \n",
      "- - - 1 2 \n",
      "- - 1 2 3 \n",
      "- 1 2 3 4 \n",
      "1 2 3 4 5 \n"
     ]
    }
   ],
   "source": [
    "i=1\n",
    "\n",
    "while i<=5:\n",
    "    b=1\n",
    "    while b<=(5-i):\n",
    "        print(\"-\",end=\" \")\n",
    "        b+=1\n",
    "   \n",
    "    j=1\n",
    "    while j<=i:\n",
    "        print(j,end=\" \")\n",
    "        j+=1\n",
    "    print()\n",
    "    i+=1"
   ]
  },
  {
   "cell_type": "code",
   "execution_count": 10,
   "id": "eb30a58a",
   "metadata": {},
   "outputs": [
    {
     "name": "stdout",
     "output_type": "stream",
     "text": [
      "- - - - 1 \n",
      "- - - 2 2 \n",
      "- - 3 3 3 \n",
      "- 4 4 4 4 \n",
      "5 5 5 5 5 \n"
     ]
    }
   ],
   "source": [
    "i=1\n",
    "\n",
    "while i<=5:\n",
    "    b=1\n",
    "    while b<=(5-i):\n",
    "        print(\"-\",end=\" \")\n",
    "        b+=1\n",
    "   \n",
    "    j=1\n",
    "    while j<=i:\n",
    "        print(i,end=\" \")\n",
    "        j+=1\n",
    "    print()\n",
    "    i+=1"
   ]
  },
  {
   "cell_type": "code",
   "execution_count": 11,
   "id": "2e126df8",
   "metadata": {},
   "outputs": [
    {
     "name": "stdout",
     "output_type": "stream",
     "text": [
      "* * * * _ \n",
      "* * * _ _ \n",
      "* * _ _ _ \n",
      "* _ _ _ _ \n"
     ]
    }
   ],
   "source": [
    "i=5\n",
    "while i>0:\n",
    "    j=1\n",
    "    while j< i:\n",
    "        print(\"*\",end=\" \")\n",
    "        j+=1\n",
    "   \n",
    "    b=1\n",
    "    if i==1:\n",
    "        break\n",
    "    while b<=(6-i):\n",
    "        print(\"_\",end=\" \")\n",
    "        b+=1\n",
    "    print()\n",
    "    i-=1"
   ]
  },
  {
   "cell_type": "code",
   "execution_count": 1,
   "id": "7095bc75",
   "metadata": {},
   "outputs": [
    {
     "name": "stdout",
     "output_type": "stream",
     "text": [
      "5\n",
      "* * * * * \n",
      "* * * * * \n",
      "* * * * * \n",
      "* * * * * \n",
      "* * * * * \n"
     ]
    }
   ],
   "source": [
    "#square pattern\n",
    "n=int(input())\n",
    "for i in range(n):\n",
    "    for j in range(n):\n",
    "        print('*',end=\" \")\n",
    "    \n",
    "    print()"
   ]
  },
  {
   "cell_type": "code",
   "execution_count": 2,
   "id": "3c6e2583",
   "metadata": {},
   "outputs": [
    {
     "name": "stdout",
     "output_type": "stream",
     "text": [
      "5\n",
      "* * * * * \n",
      "*       * \n",
      "*       * \n",
      "*       * \n",
      "* * * * * \n"
     ]
    }
   ],
   "source": [
    "#hollow pattern\n",
    "n=int(input())\n",
    "for i in range(n):\n",
    "    for j in range(n):\n",
    "        if i== 0 or i==n-1 or j==0 or j==n-1:\n",
    "            print('*',end=\" \")\n",
    "        else:\n",
    "            print(' ',end=\" \")\n",
    "    print()"
   ]
  },
  {
   "cell_type": "code",
   "execution_count": 5,
   "id": "019f7935",
   "metadata": {},
   "outputs": [
    {
     "name": "stdout",
     "output_type": "stream",
     "text": [
      "night,sight,kj,ol\n",
      "night,sight,kj,ol\n",
      "['night', 'sight', 'kj', 'ol']\n",
      "['ol', 'kj', 'sight', 'night']\n",
      "ol ,kj ,sight ,night\n"
     ]
    }
   ],
   "source": [
    "#Reverse the alphabet order\n",
    "x=input()\n",
    "#keep input in same formte as inside of bracket in split\n",
    "y=x.split(',')\n",
    "z=y[::-1]\n",
    "#keep input in same formte as inside of curly brackets in join\n",
    "q=\" ,\".join(z)\n",
    "print(x)\n",
    "print(y)\n",
    "print(z)\n",
    "print(q)\n"
   ]
  },
  {
   "cell_type": "code",
   "execution_count": 6,
   "id": "d6cc39d6",
   "metadata": {},
   "outputs": [
    {
     "name": "stdout",
     "output_type": "stream",
     "text": [
      "i love u hgf\n",
      "I love u hgf\n",
      "['I', 'love', 'u', 'hgf']\n",
      "I_love_u_hgf\n"
     ]
    }
   ],
   "source": [
    "x=input()\n",
    "x=x.capitalize()\n",
    "z=x.split(' ')\n",
    "q='_'.join(z)\n",
    "print(x)\n",
    "print(z)\n",
    "print(q)"
   ]
  },
  {
   "cell_type": "code",
   "execution_count": 7,
   "id": "7d1a2f62",
   "metadata": {},
   "outputs": [
    {
     "name": "stdout",
     "output_type": "stream",
     "text": [
      "HJJJK\n",
      "hjjjk\n",
      "kjjjh\n",
      "Not at all\n"
     ]
    }
   ],
   "source": [
    "#Reverse order \n",
    "x=input()\n",
    "x=x.lower()\n",
    "y=x[::-1]\n",
    "print(x)\n",
    "print(y)\n",
    "if x==y:\n",
    "    print(\"Palidrome\")\n",
    "else:\n",
    "    print ('Not at all')"
   ]
  },
  {
   "cell_type": "code",
   "execution_count": 8,
   "id": "a5ef7fd1",
   "metadata": {},
   "outputs": [
    {
     "name": "stdout",
     "output_type": "stream",
     "text": [
      "hmh\n",
      "HMH\n",
      "plaidrome\n"
     ]
    }
   ],
   "source": [
    "s1=input().lower()\n",
    "s2=input().lower()\n",
    "if (sorted(s1)==sorted(s2)):\n",
    "    print('plaidrome')\n",
    "else:\n",
    "    print('no')"
   ]
  },
  {
   "cell_type": "code",
   "execution_count": 9,
   "id": "1c8d81ee",
   "metadata": {},
   "outputs": [
    {
     "name": "stdout",
     "output_type": "stream",
     "text": [
      "upgrad\n",
      "upgardyui\n"
     ]
    },
    {
     "data": {
      "text/plain": [
       "'upgrad'"
      ]
     },
     "execution_count": 9,
     "metadata": {},
     "output_type": "execute_result"
    }
   ],
   "source": [
    "s1=input().lower()\n",
    "s2=input().lower()\n",
    "x=[]\n",
    "for i in range (min(len(s1),len(s2))):\n",
    "    x.append(s1[i])\n",
    "\"\".join(x)\n"
   ]
  },
  {
   "cell_type": "code",
   "execution_count": 10,
   "id": "f94869de",
   "metadata": {},
   "outputs": [
    {
     "name": "stdout",
     "output_type": "stream",
     "text": [
      "upgard\n",
      "upgardscience\n",
      "upgard\n"
     ]
    }
   ],
   "source": [
    "s1=input().lower()\n",
    "s2=input().lower()\n",
    "for i in range (min(len(s1),(len(s2)))):\n",
    "    if s1[i]!=s2[i]:\n",
    "        break\n",
    "if s1[i]!=0:\n",
    "    print(s1[ : i+1])"
   ]
  },
  {
   "cell_type": "code",
   "execution_count": 11,
   "id": "1cb78d05",
   "metadata": {},
   "outputs": [
    {
     "name": "stdout",
     "output_type": "stream",
     "text": [
      "school\n",
      "child\n",
      "Before swaping school\n",
      "Before swaping child\n",
      "\n",
      "\n",
      "After swaping child\n",
      "After swaping school\n"
     ]
    }
   ],
   "source": [
    "#swapping\n",
    "x=input()\n",
    "y=input()\n",
    "print('Before swaping',x)\n",
    "print('Before swaping',y)\n",
    "\n",
    "z=x\n",
    "x=y\n",
    "y=z\n",
    "print()\n",
    "print()\n",
    "\n",
    "print('After swaping',x)\n",
    "print('After swaping',y)\n"
   ]
  },
  {
   "cell_type": "code",
   "execution_count": 12,
   "id": "108c0e9d",
   "metadata": {},
   "outputs": [
    {
     "name": "stdout",
     "output_type": "stream",
     "text": [
      "6\n",
      "Even\n"
     ]
    }
   ],
   "source": [
    "#Even and odd\n",
    "x=int(input())\n",
    "if x % 2==0:\n",
    "    print(\"Even\")\n",
    "else:\n",
    "    print('odd')"
   ]
  },
  {
   "cell_type": "code",
   "execution_count": 14,
   "id": "a96970e7",
   "metadata": {},
   "outputs": [
    {
     "name": "stdout",
     "output_type": "stream",
     "text": [
      "50\n",
      "Bhoot\n"
     ]
    }
   ],
   "source": [
    "x=int(input())\n",
    "if x%3==0:\n",
    "    print('Beautifull')\n",
    "elif x%3==1:\n",
    "    print('Just ok')\n",
    "else:\n",
    "    print('Bhoot')"
   ]
  },
  {
   "cell_type": "code",
   "execution_count": 16,
   "id": "6e05b183",
   "metadata": {},
   "outputs": [
    {
     "name": "stdout",
     "output_type": "stream",
     "text": [
      "5\n",
      "120\n"
     ]
    }
   ],
   "source": [
    "no=int(input())\n",
    "def factorial(x):\n",
    "    if x<0:\n",
    "        return -1\n",
    "    else:\n",
    "        F=1\n",
    "        for i in range (1,x+1):\n",
    "            F=F*i\n",
    "        return F\n",
    "k=factorial(no)\n",
    "print(k)"
   ]
  },
  {
   "cell_type": "code",
   "execution_count": 17,
   "id": "c7d74ff2",
   "metadata": {},
   "outputs": [
    {
     "name": "stdout",
     "output_type": "stream",
     "text": [
      "[1, 2, 3, 4]\n",
      "3\n"
     ]
    },
    {
     "data": {
      "text/plain": [
       "False"
      ]
     },
     "execution_count": 17,
     "metadata": {},
     "output_type": "execute_result"
    }
   ],
   "source": [
    "L=[i for i in range (1,5)]\n",
    "print(L)\n",
    "print(L.index(4))\n",
    "k=10 in L\n",
    "k"
   ]
  },
  {
   "cell_type": "code",
   "execution_count": 1,
   "id": "eb248a0e",
   "metadata": {},
   "outputs": [
    {
     "name": "stdout",
     "output_type": "stream",
     "text": [
      "30,50,80,90\n",
      "30\n"
     ]
    }
   ],
   "source": [
    "# To find out samllest No\n",
    "import ast\n",
    "x=ast.literal_eval(input())\n",
    "m=x[0]\n",
    "for i in x:\n",
    "    if i<m:\n",
    "        m=i\n",
    "print(m)"
   ]
  },
  {
   "cell_type": "code",
   "execution_count": 2,
   "id": "62d46d9b",
   "metadata": {},
   "outputs": [
    {
     "name": "stdout",
     "output_type": "stream",
     "text": [
      "30,120,70,50\n",
      "67.5\n",
      "30\n"
     ]
    }
   ],
   "source": [
    "#Average+smallest value find out\n",
    "import ast\n",
    "Q=ast.literal_eval(input())\n",
    "sum=0\n",
    "for i in Q:\n",
    "    sum=sum+i\n",
    "R=sum/len(Q)\n",
    "print(R)\n",
    "X=Q[0]\n",
    "for i in Q:\n",
    "    if i<X:\n",
    "        X=i\n",
    "print(X)\n",
    "    "
   ]
  },
  {
   "cell_type": "code",
   "execution_count": 4,
   "id": "a3bd051c",
   "metadata": {},
   "outputs": [
    {
     "name": "stdout",
     "output_type": "stream",
     "text": [
      "10,20,30,60\n",
      "35\n",
      "1\n"
     ]
    }
   ],
   "source": [
    "#Wedding calsh\n",
    "import ast\n",
    "x=ast.literal_eval(input())\n",
    "y=int(input())\n",
    "clash=0\n",
    "#for i in x:\n",
    "#    if i==y:\n",
    "#        clash=clash+1\n",
    "#print(clash)\n",
    "z=x[0]\n",
    "for i in x:\n",
    "    if i > y and z < y:\n",
    "        clash=clash+1\n",
    "    z=i\n",
    "print(clash)"
   ]
  },
  {
   "cell_type": "code",
   "execution_count": null,
   "id": "5b848bb2",
   "metadata": {},
   "outputs": [],
   "source": [
    "# string Always Immutable\n",
    "#chr(123)-for  ASCII code is 123.\n",
    "#S.strip()-Remove empty spaces from both ends of the string"
   ]
  },
  {
   "cell_type": "code",
   "execution_count": 5,
   "id": "1b62d94d",
   "metadata": {},
   "outputs": [
    {
     "name": "stdout",
     "output_type": "stream",
     "text": [
      "up,grade\n",
      "upGgrade\n",
      "['up', 'grade']\n"
     ]
    }
   ],
   "source": [
    "import ast\n",
    "x=input()\n",
    "x=x.split(\",\")\n",
    "y=('G').join(x)\n",
    "print(y)\n",
    "print(x)\n",
    "#x=input()\n",
    "#keep input in same formte as inside of bracket in split\n",
    "#y=x.split(' ,')\n",
    "#z=y[::-1]\n",
    "#keep input in same formte as inside of curly brackets in join\n",
    "#q=\" ,\".join(z)"
   ]
  },
  {
   "cell_type": "code",
   "execution_count": 8,
   "id": "35251179",
   "metadata": {},
   "outputs": [
    {
     "data": {
      "text/plain": [
       "'UPGRAD'"
      ]
     },
     "execution_count": 8,
     "metadata": {},
     "output_type": "execute_result"
    }
   ],
   "source": [
    "\n",
    "y=('G').join([\"UP\",'RAD'])\n",
    "y\n"
   ]
  },
  {
   "cell_type": "code",
   "execution_count": 11,
   "id": "91415108",
   "metadata": {},
   "outputs": [
    {
     "name": "stdout",
     "output_type": "stream",
     "text": [
      "upgrad\n"
     ]
    },
    {
     "data": {
      "text/plain": [
       "'pGaGrGdGgGu'"
      ]
     },
     "execution_count": 11,
     "metadata": {},
     "output_type": "execute_result"
    }
   ],
   "source": [
    "x1=input()\n",
    "x=set(x1)\n",
    "y=('G').join(x)\n",
    "y"
   ]
  },
  {
   "cell_type": "code",
   "execution_count": 10,
   "id": "e11453a3",
   "metadata": {},
   "outputs": [
    {
     "data": {
      "text/plain": [
       "'pi'"
      ]
     },
     "execution_count": 10,
     "metadata": {},
     "output_type": "execute_result"
    }
   ],
   "source": [
    "s='upiu'.strip('u')\n",
    "s"
   ]
  },
  {
   "cell_type": "code",
   "execution_count": 12,
   "id": "7d298c38",
   "metadata": {},
   "outputs": [
    {
     "data": {
      "text/plain": [
       "'upGrad'"
      ]
     },
     "execution_count": 12,
     "metadata": {},
     "output_type": "execute_result"
    }
   ],
   "source": [
    "s='aabupGradaab'.strip('a').strip('b').strip('a')\n",
    "s"
   ]
  },
  {
   "cell_type": "code",
   "execution_count": 1,
   "id": "e5ff40b5",
   "metadata": {},
   "outputs": [],
   "source": [
    "y=('G').join([\"UP\",'RAD'])"
   ]
  },
  {
   "cell_type": "code",
   "execution_count": 2,
   "id": "01be02ec",
   "metadata": {},
   "outputs": [
    {
     "name": "stdout",
     "output_type": "stream",
     "text": [
      "tr,kj\n"
     ]
    },
    {
     "data": {
      "text/plain": [
       "'rGkGjG,Gt'"
      ]
     },
     "execution_count": 2,
     "metadata": {},
     "output_type": "execute_result"
    }
   ],
   "source": [
    "x1=input()\n",
    "x=set(x1)\n",
    "y=('G').join(x)\n",
    "y"
   ]
  },
  {
   "cell_type": "code",
   "execution_count": 3,
   "id": "7a988e59",
   "metadata": {},
   "outputs": [
    {
     "data": {
      "text/plain": [
       "'pi'"
      ]
     },
     "execution_count": 3,
     "metadata": {},
     "output_type": "execute_result"
    }
   ],
   "source": [
    "s='upiu'.strip('u')\n",
    "s"
   ]
  },
  {
   "cell_type": "code",
   "execution_count": null,
   "id": "f05af847",
   "metadata": {},
   "outputs": [],
   "source": [
    "s='aabupGradaab'.strip('a').strip('b').strip('a')\n",
    "s"
   ]
  },
  {
   "cell_type": "code",
   "execution_count": 4,
   "id": "7cbceb50",
   "metadata": {},
   "outputs": [
    {
     "name": "stdout",
     "output_type": "stream",
     "text": [
      "hmh\n",
      "Palidrome\n"
     ]
    }
   ],
   "source": [
    "#Palidrome\n",
    "x=input()\n",
    "r=''\n",
    "for i in x:\n",
    "    r=i+r\n",
    "if r==x:\n",
    "    print(\"Palidrome\")\n",
    "else:\n",
    "    print('NO')\n",
    "    "
   ]
  },
  {
   "cell_type": "code",
   "execution_count": 5,
   "id": "ebd0cbdf",
   "metadata": {},
   "outputs": [
    {
     "name": "stdout",
     "output_type": "stream",
     "text": [
      "raaar\n",
      "raaar\n",
      "Palidrome\n"
     ]
    }
   ],
   "source": [
    "#Palidrome-2nd Method\n",
    "s1=input().lower()\n",
    "s2=input().lower()\n",
    "if sorted(s1)==sorted(s2):\n",
    "    print('Palidrome')\n",
    "else:\n",
    "    print('NO Palidrome')"
   ]
  },
  {
   "cell_type": "code",
   "execution_count": 6,
   "id": "4439355c",
   "metadata": {},
   "outputs": [
    {
     "name": "stdout",
     "output_type": "stream",
     "text": [
      "i love coding\n",
      "coding love i\n"
     ]
    }
   ],
   "source": [
    "#Reverse\n",
    "x=input()\n",
    "x=x.split(' ')\n",
    "x=x[::-1]\n",
    "y=(' ').join(x)\n",
    "print(y)"
   ]
  },
  {
   "cell_type": "code",
   "execution_count": 7,
   "id": "ea87510a",
   "metadata": {},
   "outputs": [
    {
     "name": "stdout",
     "output_type": "stream",
     "text": [
      "SAGH yuu\n",
      "Sagh_yuu\n"
     ]
    }
   ],
   "source": [
    "#join\n",
    "x=input()\n",
    "x=x.capitalize()\n",
    "x=x.split(' ')\n",
    "y=('_').join(x)\n",
    "print(y)"
   ]
  },
  {
   "cell_type": "code",
   "execution_count": 8,
   "id": "e026f4fd",
   "metadata": {},
   "outputs": [
    {
     "name": "stdout",
     "output_type": "stream",
     "text": [
      "[1, 2, 3, 4]\n"
     ]
    }
   ],
   "source": [
    "L=[]\n",
    "for i in range(1,5):\n",
    "    L.append(i)\n",
    "print(L)"
   ]
  },
  {
   "cell_type": "code",
   "execution_count": 1,
   "id": "9aeb5077",
   "metadata": {},
   "outputs": [
    {
     "data": {
      "text/plain": [
       "[1, 2, 3, 4]"
      ]
     },
     "execution_count": 1,
     "metadata": {},
     "output_type": "execute_result"
    }
   ],
   "source": [
    "L=[i for i in range(1,5)]\n",
    "L"
   ]
  },
  {
   "cell_type": "code",
   "execution_count": 2,
   "id": "c30b59ab",
   "metadata": {},
   "outputs": [
    {
     "data": {
      "text/plain": [
       "3"
      ]
     },
     "execution_count": 2,
     "metadata": {},
     "output_type": "execute_result"
    }
   ],
   "source": [
    "L.index(4)"
   ]
  },
  {
   "cell_type": "code",
   "execution_count": 3,
   "id": "8c8db71d",
   "metadata": {},
   "outputs": [
    {
     "data": {
      "text/plain": [
       "False"
      ]
     },
     "execution_count": 3,
     "metadata": {},
     "output_type": "execute_result"
    }
   ],
   "source": [
    "k=10 in L\n",
    "k"
   ]
  },
  {
   "cell_type": "code",
   "execution_count": 4,
   "id": "1c3beca9",
   "metadata": {},
   "outputs": [
    {
     "data": {
      "text/plain": [
       "[20, 10]"
      ]
     },
     "execution_count": 4,
     "metadata": {},
     "output_type": "execute_result"
    }
   ],
   "source": [
    "L=[10,20,30,40,50,60,70,80,90,100,110]\n",
    "L[1::-1]"
   ]
  },
  {
   "cell_type": "code",
   "execution_count": 5,
   "id": "cb412a5a",
   "metadata": {},
   "outputs": [
    {
     "data": {
      "text/plain": [
       "[110, 100, 90, 80, 70, 60, 50, 40, 30, 20, 10]"
      ]
     },
     "execution_count": 5,
     "metadata": {},
     "output_type": "execute_result"
    }
   ],
   "source": [
    "L=[10,20,30,40,50,60,70,80,90,100,110]\n",
    "L[::-1]"
   ]
  },
  {
   "cell_type": "code",
   "execution_count": 6,
   "id": "1f6b10f3",
   "metadata": {},
   "outputs": [
    {
     "name": "stdout",
     "output_type": "stream",
     "text": [
      "10,30,80,5,8\n",
      "5\n"
     ]
    }
   ],
   "source": [
    "#Smallest Value find out \n",
    "import ast\n",
    "x=ast.literal_eval(input())\n",
    "y=x[0]\n",
    "for i in x:\n",
    "    if y>i:\n",
    "        y=i\n",
    "print(y)"
   ]
  },
  {
   "cell_type": "code",
   "execution_count": 7,
   "id": "13fd6228",
   "metadata": {},
   "outputs": [
    {
     "name": "stdout",
     "output_type": "stream",
     "text": [
      "You love Python!\n",
      "ouoeoY lv Pythn!\n"
     ]
    }
   ],
   "source": [
    "x=input()\n",
    "y='aeiouAEIOU'\n",
    "t=''\n",
    "r=''\n",
    "for i in x:\n",
    "    if i in y:\n",
    "        t=t+i\n",
    "    else:\n",
    "        r=r+i\n",
    "    s=t+r\n",
    "print(s)\n",
    "\n",
    "#You love Python!\n",
    "#ouoeoY lv Pythn!   \n",
    "    "
   ]
  },
  {
   "cell_type": "code",
   "execution_count": 8,
   "id": "9be9d904",
   "metadata": {},
   "outputs": [
    {
     "name": "stdout",
     "output_type": "stream",
     "text": [
      "upgrad\n",
      "upgrader\n",
      "upgrad\n"
     ]
    }
   ],
   "source": [
    "s1=input()\n",
    "s2=input()\n",
    "L=''\n",
    "for i in range (min(len(s1),len(s2))):\n",
    "    if s1[i]==s2[i]:\n",
    "        L=L+s1[i]\n",
    "    else:\n",
    "        break\n",
    "print(L)"
   ]
  },
  {
   "cell_type": "code",
   "execution_count": 9,
   "id": "48df519c",
   "metadata": {},
   "outputs": [
    {
     "name": "stdout",
     "output_type": "stream",
     "text": [
      "upgrad\n",
      "upgrader\n",
      "upgrad\n"
     ]
    }
   ],
   "source": [
    "s1=input()\n",
    "s2=input()\n",
    "L=[]\n",
    "for i in range (min(len(s1),len(s2))):\n",
    "    if s1[i]==s2[i]:\n",
    "        L.append(s1[i])\n",
    "    else:\n",
    "        break\n",
    "print(''.join(L))"
   ]
  },
  {
   "cell_type": "code",
   "execution_count": null,
   "id": "dc40dde4",
   "metadata": {},
   "outputs": [],
   "source": [
    "#set.intersection(A, B, C)-interscation will not work in sets\n",
    "#Tuples are immutable\n",
    "#sets are mutable\n",
    "#d.keys()/d.values() returns a list of all keys.\n",
    "#del dict_1['R']-R is key"
   ]
  },
  {
   "cell_type": "code",
   "execution_count": 1,
   "id": "4b6ac856",
   "metadata": {},
   "outputs": [
    {
     "name": "stdout",
     "output_type": "stream",
     "text": [
      "[1,666,7,7,7,9,10]\n",
      "[1, 666, 7, 9, 10]\n"
     ]
    }
   ],
   "source": [
    "#Remove Deplicate\n",
    "import ast\n",
    "r=input()\n",
    "q=ast.literal_eval(r)\n",
    "l=[]\n",
    "for i in q:\n",
    "    if i not in l:\n",
    "        l.append(i)\n",
    "print(l)\n",
    "\n"
   ]
  },
  {
   "cell_type": "code",
   "execution_count": 3,
   "id": "e24d1ad7",
   "metadata": {},
   "outputs": [
    {
     "name": "stdout",
     "output_type": "stream",
     "text": [
      "['Ram', 'Shyam', 'Ram', 'Satish']\n",
      "0\n",
      "['Ram', 'Rahul', 'Shyam', 'Ram', 'Satish']\n",
      "['Ram', 'Shyam', 'Ram', 'Satish']\n",
      "['Satish', 'Ram', 'Shyam', 'Ram']\n",
      "4\n",
      "['Ram', 'Ram', 'Satish', 'Shyam']\n",
      "['Ram', 'Ram', 'Satish']\n"
     ]
    }
   ],
   "source": [
    "a=['Ram','Shyam','Ram','Satish']\n",
    "a.count('Ram')\n",
    "print(a)\n",
    "y=a.index('Ram')\n",
    "print(y)\n",
    "a.insert(1,'Rahul')\n",
    "print(a)\n",
    "a.remove('Rahul')\n",
    "print(a)\n",
    "a.reverse()\n",
    "print(a)\n",
    "d=len(a)\n",
    "print(d)\n",
    "a.sort()\n",
    "print(a)\n",
    "a.pop()\n",
    "print(a)"
   ]
  },
  {
   "cell_type": "code",
   "execution_count": 4,
   "id": "86ff58b1",
   "metadata": {},
   "outputs": [
    {
     "name": "stdout",
     "output_type": "stream",
     "text": [
      "(1, 2, 3, 4, 5, 6, 7, 8, 9, 10)\n"
     ]
    }
   ],
   "source": [
    "x1=(1,2,3,4,5)\n",
    "x2=(6,7,8,9,10)\n",
    "x3=x1+x2\n",
    "print(x3)"
   ]
  },
  {
   "cell_type": "code",
   "execution_count": 5,
   "id": "532d05b0",
   "metadata": {},
   "outputs": [
    {
     "name": "stdout",
     "output_type": "stream",
     "text": [
      "[1, 2, 3, 4, 5, 6, 7, 8, 9, 10]\n"
     ]
    }
   ],
   "source": [
    "x1=[1,2,3,4,5]\n",
    "x2=[6,7,8,9,10]\n",
    "x3=x1+x2\n",
    "print(x3)"
   ]
  },
  {
   "cell_type": "code",
   "execution_count": 6,
   "id": "957eb331",
   "metadata": {},
   "outputs": [
    {
     "name": "stdout",
     "output_type": "stream",
     "text": [
      "[1, 2, 3, 4, 5, 1, 2, 3, 4, 5, 1, 2, 3, 4, 5]\n"
     ]
    }
   ],
   "source": [
    "x1=[1,2,3,4,5]\n",
    "x2=x1*3\n",
    "print(x2)"
   ]
  },
  {
   "cell_type": "code",
   "execution_count": 7,
   "id": "b99c6722",
   "metadata": {},
   "outputs": [
    {
     "name": "stdout",
     "output_type": "stream",
     "text": [
      "[1, 2, 3, 4, 5]\n"
     ]
    },
    {
     "data": {
      "text/plain": [
       "[1, 2, 20, 3, 4, 5]"
      ]
     },
     "execution_count": 7,
     "metadata": {},
     "output_type": "execute_result"
    }
   ],
   "source": [
    "x1=[1,2,3,4,5]\n",
    "x2=[6,7,8,9,10]\n",
    "max(x1)\n",
    "min(x2)\n",
    "x1.count(2)\n",
    "print(x1)\n",
    "x1.insert(2,20)\n",
    "x1\n"
   ]
  },
  {
   "cell_type": "code",
   "execution_count": 8,
   "id": "1007e4fe",
   "metadata": {},
   "outputs": [
    {
     "name": "stdout",
     "output_type": "stream",
     "text": [
      "5\n",
      "Enter value5\n",
      "Enter value1\n",
      "Enter value2\n",
      "Enter value5\n",
      "Enter value4\n",
      "[5, 1, 2, 5, 4]\n",
      "10\n"
     ]
    }
   ],
   "source": [
    "x=int(input())\n",
    "a=[]\n",
    "for i in range(x):\n",
    "    y=int(input('Enter value' ))\n",
    "    a.append(y)\n",
    "print(a)\n",
    "sum=0\n",
    "for i in range(x):\n",
    "    sum=sum+i\n",
    "print(sum)"
   ]
  },
  {
   "cell_type": "code",
   "execution_count": 9,
   "id": "59211032",
   "metadata": {},
   "outputs": [
    {
     "name": "stdout",
     "output_type": "stream",
     "text": [
      "3\n",
      "Enter value10\n",
      "Enter value20\n",
      "Enter value30\n",
      "[10, 20, 30]\n",
      "60\n"
     ]
    }
   ],
   "source": [
    "x=int(input())\n",
    "a=[]\n",
    "for i in range(x):\n",
    "    y=int(input('Enter value' ))\n",
    "    a.append(y)\n",
    "print(a)\n",
    "sum=0\n",
    "for i in range(x):\n",
    "    sum=sum+a[i]\n",
    "print(sum)"
   ]
  },
  {
   "cell_type": "code",
   "execution_count": 10,
   "id": "75606ab6",
   "metadata": {},
   "outputs": [
    {
     "name": "stdout",
     "output_type": "stream",
     "text": [
      "upgrad\n",
      "upgradeee\n",
      "upgrad\n"
     ]
    }
   ],
   "source": [
    "s1=input()\n",
    "s2=input()\n",
    "L=''\n",
    "\n",
    "for i in range (min(len(s1),len(s2))):\n",
    "    if s1[i]==s2[i]:\n",
    "        L=L+s1[i]\n",
    "    else:\n",
    "        break\n",
    "print(L)"
   ]
  },
  {
   "cell_type": "code",
   "execution_count": 11,
   "id": "82d59ea7",
   "metadata": {},
   "outputs": [
    {
     "data": {
      "text/plain": [
       "'love'"
      ]
     },
     "execution_count": 11,
     "metadata": {},
     "output_type": "execute_result"
    }
   ],
   "source": [
    "#extract=love\n",
    "S ='I love Python'\n",
    "S[-11:-7]\n",
    "S[2:6]\n",
    "\n"
   ]
  },
  {
   "cell_type": "code",
   "execution_count": 12,
   "id": "d6e835d4",
   "metadata": {},
   "outputs": [
    {
     "name": "stdout",
     "output_type": "stream",
     "text": [
      "AUTO - 10\n",
      "HONDA - 20\n",
      "GM - 30\n"
     ]
    }
   ],
   "source": [
    "L1=['AUTO','HONDA','GM']\n",
    "L2=[10,20,30]\n",
    "for i ,j in zip(L1,L2):\n",
    "    print(i,'-',j)"
   ]
  },
  {
   "cell_type": "code",
   "execution_count": 14,
   "id": "909a3b7f",
   "metadata": {},
   "outputs": [
    {
     "name": "stdout",
     "output_type": "stream",
     "text": [
      "Enter pin no-8523\n",
      "Enter pin no-4561\n",
      "wrong pin code.Try gain\n",
      "invaild pin.card blocked\n"
     ]
    }
   ],
   "source": [
    "import sys\n",
    "pin=int(input('Enter pin no-' ))\n",
    "count=0\n",
    "if pin!=1234:\n",
    "    if pin==2580:\n",
    "        print('Vaild pin')\n",
    "    elif count<=3:\n",
    "        pin=int(input('Enter pin no-' ))\n",
    "        print('wrong pin code.Try gain')\n",
    "        count=count+1\n",
    "        print('invaild pin.card blocked')\n",
    "#sys exit('Too many invild attempt')\n",
    "        \n",
    "        \n",
    "        "
   ]
  },
  {
   "cell_type": "code",
   "execution_count": 15,
   "id": "c35b5c16",
   "metadata": {},
   "outputs": [
    {
     "name": "stdout",
     "output_type": "stream",
     "text": [
      "[1, 2, 3]\n"
     ]
    }
   ],
   "source": [
    "D = {1:['Raj', 22], 2:['Simran', 21], 3:['Rahul', 40]}\n",
    "l=[]\n",
    "for value in D:\n",
    "    l.append(value)\n",
    "print(l)"
   ]
  },
  {
   "cell_type": "code",
   "execution_count": 16,
   "id": "935bf715",
   "metadata": {},
   "outputs": [
    {
     "name": "stdout",
     "output_type": "stream",
     "text": [
      "{'brand': 'suzuki', 'model': 'desire', 'year': 2010}\n"
     ]
    },
    {
     "data": {
      "text/plain": [
       "'desire'"
      ]
     },
     "execution_count": 16,
     "metadata": {},
     "output_type": "execute_result"
    }
   ],
   "source": [
    "d={'brand':'suzuki','model':'desire','year':2010}\n",
    "print(d)\n",
    "d['model']\n"
   ]
  },
  {
   "cell_type": "code",
   "execution_count": 17,
   "id": "7594c3ce",
   "metadata": {},
   "outputs": [
    {
     "name": "stdout",
     "output_type": "stream",
     "text": [
      "{'brand': 'suzuki', 'model': 'desire', 'year': 2010}\n"
     ]
    },
    {
     "data": {
      "text/plain": [
       "'suzuki'"
      ]
     },
     "execution_count": 17,
     "metadata": {},
     "output_type": "execute_result"
    }
   ],
   "source": [
    "d={'brand':'suzuki','model':'desire','year':2010}\n",
    "print(d)\n",
    "d.get('brand')"
   ]
  },
  {
   "cell_type": "code",
   "execution_count": 18,
   "id": "663220e5",
   "metadata": {},
   "outputs": [
    {
     "name": "stdout",
     "output_type": "stream",
     "text": [
      "['suzuki', 'desire', 2010]\n"
     ]
    }
   ],
   "source": [
    "d={'brand':'suzuki','model':'desire','year':2010}\n",
    "l=[]\n",
    "for i in d:\n",
    "    l.append(d[i])\n",
    "print(l)"
   ]
  },
  {
   "cell_type": "code",
   "execution_count": 19,
   "id": "6d25db48",
   "metadata": {},
   "outputs": [
    {
     "name": "stdout",
     "output_type": "stream",
     "text": [
      "['brand', 'model', 'year']\n"
     ]
    }
   ],
   "source": [
    "d={'brand':'suzuki','model':'desire','year':2010}\n",
    "l=[]\n",
    "for i in d:\n",
    "    l.append(i)\n",
    "print(l)"
   ]
  },
  {
   "cell_type": "code",
   "execution_count": 1,
   "id": "339085c1",
   "metadata": {},
   "outputs": [
    {
     "name": "stdout",
     "output_type": "stream",
     "text": [
      "brand suzuki\n",
      "model desire\n",
      "year 2010\n"
     ]
    }
   ],
   "source": [
    "d={'brand':'suzuki','model':'desire','year':2010}\n",
    "for x,y in d.items():\n",
    "    print(x,y)"
   ]
  },
  {
   "cell_type": "code",
   "execution_count": 2,
   "id": "462bbc01",
   "metadata": {},
   "outputs": [
    {
     "name": "stdout",
     "output_type": "stream",
     "text": [
      "brand\n",
      "model\n",
      "year\n",
      "suzuki\n",
      "desire\n",
      "2010\n"
     ]
    },
    {
     "data": {
      "text/plain": [
       "{'brand': 'suzuki', 'year': 2010}"
      ]
     },
     "execution_count": 2,
     "metadata": {},
     "output_type": "execute_result"
    }
   ],
   "source": [
    "d={'brand':'suzuki','model':'desire','year':2010}\n",
    "for x in d.keys():\n",
    "    print(x)\n",
    "for y in d.values():\n",
    "    print(y)\n",
    "d.pop('model')\n",
    "d"
   ]
  },
  {
   "cell_type": "code",
   "execution_count": 3,
   "id": "813bea0f",
   "metadata": {},
   "outputs": [
    {
     "data": {
      "text/plain": [
       "{'brand': 'suzuki', 'model': 'desire', 'year': 2010, 'my_car': 'toyota'}"
      ]
     },
     "execution_count": 3,
     "metadata": {},
     "output_type": "execute_result"
    }
   ],
   "source": [
    "d={'brand':'suzuki','model':'desire','year':2010}\n",
    "d.setdefault('my_car','toyota')\n",
    "d"
   ]
  },
  {
   "cell_type": "code",
   "execution_count": 4,
   "id": "f1074f9f",
   "metadata": {},
   "outputs": [
    {
     "data": {
      "text/plain": [
       "{'brand': 'suzuki', 'model': 'desire', 'year': 2010, 'location': 'delhi'}"
      ]
     },
     "execution_count": 4,
     "metadata": {},
     "output_type": "execute_result"
    }
   ],
   "source": [
    "d={'brand':'suzuki','model':'desire','year':2010}\n",
    "d.update({'location':'delhi'})\n",
    "d"
   ]
  },
  {
   "cell_type": "code",
   "execution_count": 5,
   "id": "938656ff",
   "metadata": {},
   "outputs": [
    {
     "data": {
      "text/plain": [
       "{}"
      ]
     },
     "execution_count": 5,
     "metadata": {},
     "output_type": "execute_result"
    }
   ],
   "source": [
    "d={'brand':'suzuki','model':'desire','year':2010}\n",
    "\n",
    "d.clear()\n",
    "d"
   ]
  },
  {
   "cell_type": "code",
   "execution_count": null,
   "id": "f006761d",
   "metadata": {},
   "outputs": [],
   "source": [
    "#Array\n",
    "#-Boolean value is defined without the apostrophes-\"\"-dont use in true\n",
    "#s=(1.0, 2, 3.5, 0.2, True)\n",
    "# it is possible to create an array from a tuple."
   ]
  },
  {
   "cell_type": "code",
   "execution_count": 6,
   "id": "205a38a7",
   "metadata": {},
   "outputs": [
    {
     "name": "stdout",
     "output_type": "stream",
     "text": [
      "10,20,30,40,50\n",
      "10\n",
      "20\n",
      "[10 20]\n"
     ]
    }
   ],
   "source": [
    "import numpy as np\n",
    "import ast\n",
    "s=input()\n",
    "q=ast.literal_eval(s)\n",
    "m=int(input())\n",
    "n=int(input())\n",
    "array_1=np.array(q)\n",
    "#final_array=array_1\n",
    "[(array_1 > m)& (array_1 < n)]\n",
    "final_array = array_1 [(array_1 >= m) & (array_1 <=n)]\n",
    "print(final_array)"
   ]
  },
  {
   "cell_type": "code",
   "execution_count": 7,
   "id": "916e9af4",
   "metadata": {},
   "outputs": [
    {
     "data": {
      "text/plain": [
       "array([[1., 1.],\n",
       "       [1., 1.]])"
      ]
     },
     "execution_count": 7,
     "metadata": {},
     "output_type": "execute_result"
    }
   ],
   "source": [
    "import numpy as np\n",
    "x=np.ones((2,2))\n",
    "x"
   ]
  },
  {
   "cell_type": "code",
   "execution_count": 8,
   "id": "c017c473",
   "metadata": {},
   "outputs": [
    {
     "data": {
      "text/plain": [
       "array([[0., 0., 0.],\n",
       "       [0., 0., 0.]])"
      ]
     },
     "execution_count": 8,
     "metadata": {},
     "output_type": "execute_result"
    }
   ],
   "source": [
    "import numpy as np\n",
    "x=np.zeros((2,3))\n",
    "x"
   ]
  },
  {
   "cell_type": "code",
   "execution_count": 9,
   "id": "af290e09",
   "metadata": {},
   "outputs": [
    {
     "data": {
      "text/plain": [
       "array([[1., 0., 0., 0.],\n",
       "       [0., 1., 0., 0.],\n",
       "       [0., 0., 1., 0.],\n",
       "       [0., 0., 0., 1.]])"
      ]
     },
     "execution_count": 9,
     "metadata": {},
     "output_type": "execute_result"
    }
   ],
   "source": [
    "import numpy as np\n",
    "x=np.eye(4)\n",
    "x"
   ]
  },
  {
   "cell_type": "code",
   "execution_count": 3,
   "id": "e08ea179",
   "metadata": {},
   "outputs": [
    {
     "data": {
      "text/plain": [
       "array([[7, 7, 7],\n",
       "       [7, 7, 7],\n",
       "       [7, 7, 7]])"
      ]
     },
     "execution_count": 3,
     "metadata": {},
     "output_type": "execute_result"
    }
   ],
   "source": [
    "import numpy as np\n",
    "np.full((3,3),7)"
   ]
  },
  {
   "cell_type": "code",
   "execution_count": 4,
   "id": "cffe5b82",
   "metadata": {},
   "outputs": [
    {
     "data": {
      "text/plain": [
       "array([[7, 5, 8],\n",
       "       [6, 5, 4],\n",
       "       [2, 4, 2]])"
      ]
     },
     "execution_count": 4,
     "metadata": {},
     "output_type": "execute_result"
    }
   ],
   "source": [
    "import numpy as np\n",
    "arr=np.random.randint(1,10,9)\n",
    "arr1=arr.reshape(3,3)\n",
    "arr\n",
    "arr1"
   ]
  },
  {
   "cell_type": "code",
   "execution_count": 5,
   "id": "0dfa37d8",
   "metadata": {},
   "outputs": [
    {
     "data": {
      "text/plain": [
       "array([0.71971239, 0.05262733, 0.69559938, 0.25602762, 0.28068971])"
      ]
     },
     "execution_count": 5,
     "metadata": {},
     "output_type": "execute_result"
    }
   ],
   "source": [
    "import numpy as np\n",
    "arr=np.random.rand(5)\n",
    "arr"
   ]
  },
  {
   "cell_type": "code",
   "execution_count": 6,
   "id": "7d3d2c86",
   "metadata": {},
   "outputs": [
    {
     "name": "stdout",
     "output_type": "stream",
     "text": [
      "[9 5 8 7 8 9 9 7 1]\n",
      "[[9 5 0]\n",
      " [7 0 9]\n",
      " [9 7 1]]\n"
     ]
    },
    {
     "data": {
      "text/plain": [
       "array([9, 7, 9, 9, 7])"
      ]
     },
     "execution_count": 6,
     "metadata": {},
     "output_type": "execute_result"
    }
   ],
   "source": [
    "import numpy as np\n",
    "arr=np.random.randint(1,10,9)\n",
    "print(arr)\n",
    "arr1=arr.reshape(3,3)\n",
    "arr1[arr1 % 2==0]=0\n",
    "print(arr1)\n",
    "b=arr1[arr1>5]\n",
    "b"
   ]
  },
  {
   "cell_type": "code",
   "execution_count": 7,
   "id": "b19cbeaa",
   "metadata": {},
   "outputs": [
    {
     "data": {
      "text/plain": [
       "array([1, 2, 3, 4])"
      ]
     },
     "execution_count": 7,
     "metadata": {},
     "output_type": "execute_result"
    }
   ],
   "source": [
    "import numpy as np\n",
    "arr=np.arange(1,5)\n",
    "arr"
   ]
  },
  {
   "cell_type": "code",
   "execution_count": 8,
   "id": "2e42696c",
   "metadata": {},
   "outputs": [
    {
     "data": {
      "text/plain": [
       "array([3, 4, 5, 6])"
      ]
     },
     "execution_count": 8,
     "metadata": {},
     "output_type": "execute_result"
    }
   ],
   "source": [
    "arr+2"
   ]
  },
  {
   "cell_type": "code",
   "execution_count": 9,
   "id": "b6d8b8e5",
   "metadata": {},
   "outputs": [
    {
     "data": {
      "text/plain": [
       "array([2, 4, 6, 8])"
      ]
     },
     "execution_count": 9,
     "metadata": {},
     "output_type": "execute_result"
    }
   ],
   "source": [
    "arr*2"
   ]
  },
  {
   "cell_type": "code",
   "execution_count": 10,
   "id": "1f1dd6c1",
   "metadata": {},
   "outputs": [
    {
     "data": {
      "text/plain": [
       "array([ 1,  4,  9, 16], dtype=int32)"
      ]
     },
     "execution_count": 10,
     "metadata": {},
     "output_type": "execute_result"
    }
   ],
   "source": [
    "arr**2"
   ]
  },
  {
   "cell_type": "code",
   "execution_count": 11,
   "id": "6f2e14e2",
   "metadata": {},
   "outputs": [
    {
     "data": {
      "text/plain": [
       "array([ 1.  ,  3.25,  5.5 ,  7.75, 10.  ])"
      ]
     },
     "execution_count": 11,
     "metadata": {},
     "output_type": "execute_result"
    }
   ],
   "source": [
    "np.linspace(1,10,5)\n",
    "#10 included"
   ]
  },
  {
   "cell_type": "code",
   "execution_count": 13,
   "id": "b5b8d3f0",
   "metadata": {},
   "outputs": [],
   "source": [
    "x=np.random.randint(1,10,5)\n",
    "#10 not included"
   ]
  },
  {
   "cell_type": "code",
   "execution_count": 14,
   "id": "12942fe9",
   "metadata": {},
   "outputs": [
    {
     "data": {
      "text/plain": [
       "array([[[0.08294971, 0.10500637, 0.26864511, 0.7820162 , 0.55328849],\n",
       "        [0.83877234, 0.47938779, 0.44387974, 0.51592329, 0.15367459],\n",
       "        [0.84697579, 0.08866956, 0.82696602, 0.60812452, 0.16107857],\n",
       "        [0.34524314, 0.57981928, 0.9944306 , 0.55749666, 0.53571559],\n",
       "        [0.80168774, 0.70154427, 0.79552518, 0.72319901, 0.89624212],\n",
       "        [0.62996929, 0.18403215, 0.18980861, 0.24069741, 0.36032005],\n",
       "        [0.11068365, 0.91320112, 0.4031737 , 0.9994755 , 0.80265981],\n",
       "        [0.27300922, 0.58088041, 0.94176427, 0.64661665, 0.49511147],\n",
       "        [0.65329743, 0.23311264, 0.27384322, 0.84160386, 0.62633165],\n",
       "        [0.65468302, 0.98021676, 0.08015283, 0.74611706, 0.29660414]]])"
      ]
     },
     "execution_count": 14,
     "metadata": {},
     "output_type": "execute_result"
    }
   ],
   "source": [
    "np.random.rand(1,10,5)"
   ]
  },
  {
   "cell_type": "code",
   "execution_count": 17,
   "id": "0160f3c3",
   "metadata": {},
   "outputs": [
    {
     "data": {
      "text/plain": [
       "array([3.16227766, 4.47213595, 5.47722558, 6.32455532, 7.07106781])"
      ]
     },
     "execution_count": 17,
     "metadata": {},
     "output_type": "execute_result"
    }
   ],
   "source": [
    "import numpy as np\n",
    "x=([10,20,30,40,50])\n",
    "np.min(x)\n",
    "np.sqrt(x)"
   ]
  },
  {
   "cell_type": "code",
   "execution_count": 18,
   "id": "37724838",
   "metadata": {},
   "outputs": [
    {
     "data": {
      "text/plain": [
       "50"
      ]
     },
     "execution_count": 18,
     "metadata": {},
     "output_type": "execute_result"
    }
   ],
   "source": [
    "np.max(x)"
   ]
  },
  {
   "cell_type": "code",
   "execution_count": 19,
   "id": "2e05f5cb",
   "metadata": {},
   "outputs": [
    {
     "data": {
      "text/plain": [
       "array([  1000,   8000,  27000,  64000, 125000], dtype=int32)"
      ]
     },
     "execution_count": 19,
     "metadata": {},
     "output_type": "execute_result"
    }
   ],
   "source": [
    "np.power(x,3)"
   ]
  },
  {
   "cell_type": "code",
   "execution_count": 20,
   "id": "a2402014",
   "metadata": {},
   "outputs": [
    {
     "data": {
      "text/plain": [
       "array([120, 240, 360, 480, 600])"
      ]
     },
     "execution_count": 20,
     "metadata": {},
     "output_type": "execute_result"
    }
   ],
   "source": [
    "np.multiply(x,12)"
   ]
  },
  {
   "cell_type": "code",
   "execution_count": 21,
   "id": "162157cf",
   "metadata": {},
   "outputs": [
    {
     "data": {
      "text/plain": [
       "2"
      ]
     },
     "execution_count": 21,
     "metadata": {},
     "output_type": "execute_result"
    }
   ],
   "source": [
    "np.searchsorted(x,30)"
   ]
  },
  {
   "cell_type": "code",
   "execution_count": 22,
   "id": "8769a7d9",
   "metadata": {},
   "outputs": [
    {
     "name": "stdout",
     "output_type": "stream",
     "text": [
      "(array([], dtype=int64),)\n"
     ]
    }
   ],
   "source": [
    "y=np.where(x==40)\n",
    "print(y)"
   ]
  },
  {
   "cell_type": "code",
   "execution_count": 23,
   "id": "4c6ddd03",
   "metadata": {},
   "outputs": [
    {
     "data": {
      "text/plain": [
       "array([[0, 1, 2],\n",
       "       [3, 4, 5]])"
      ]
     },
     "execution_count": 23,
     "metadata": {},
     "output_type": "execute_result"
    }
   ],
   "source": [
    "a=np.arange(6).reshape(2,3)\n",
    "a"
   ]
  },
  {
   "cell_type": "code",
   "execution_count": 24,
   "id": "4d7159cc",
   "metadata": {},
   "outputs": [
    {
     "data": {
      "text/plain": [
       "array([[0, 1, 2],\n",
       "       [3, 4, 5],\n",
       "       [6, 7, 8]])"
      ]
     },
     "execution_count": 24,
     "metadata": {},
     "output_type": "execute_result"
    }
   ],
   "source": [
    "b=np.arange(9).reshape(3,3)\n",
    "b"
   ]
  },
  {
   "cell_type": "code",
   "execution_count": 25,
   "id": "0952125c",
   "metadata": {},
   "outputs": [
    {
     "data": {
      "text/plain": [
       "2"
      ]
     },
     "execution_count": 25,
     "metadata": {},
     "output_type": "execute_result"
    }
   ],
   "source": [
    "b.ndim"
   ]
  },
  {
   "cell_type": "code",
   "execution_count": 26,
   "id": "35ba39fe",
   "metadata": {},
   "outputs": [
    {
     "data": {
      "text/plain": [
       "(3, 3)"
      ]
     },
     "execution_count": 26,
     "metadata": {},
     "output_type": "execute_result"
    }
   ],
   "source": [
    "b.shape"
   ]
  },
  {
   "cell_type": "code",
   "execution_count": 27,
   "id": "04b6873b",
   "metadata": {},
   "outputs": [
    {
     "data": {
      "text/plain": [
       "9"
      ]
     },
     "execution_count": 27,
     "metadata": {},
     "output_type": "execute_result"
    }
   ],
   "source": [
    "b.size"
   ]
  },
  {
   "cell_type": "code",
   "execution_count": 28,
   "id": "ece60ad6",
   "metadata": {},
   "outputs": [
    {
     "data": {
      "text/plain": [
       "dtype('int32')"
      ]
     },
     "execution_count": 28,
     "metadata": {},
     "output_type": "execute_result"
    }
   ],
   "source": [
    "b.dtype"
   ]
  },
  {
   "cell_type": "code",
   "execution_count": 29,
   "id": "9719a3b6",
   "metadata": {},
   "outputs": [
    {
     "data": {
      "text/plain": [
       "array([[0, 1, 2],\n",
       "       [3, 4, 5],\n",
       "       [6, 7, 8]])"
      ]
     },
     "execution_count": 29,
     "metadata": {},
     "output_type": "execute_result"
    }
   ],
   "source": [
    "b"
   ]
  },
  {
   "cell_type": "code",
   "execution_count": 30,
   "id": "34804733",
   "metadata": {},
   "outputs": [
    {
     "data": {
      "text/plain": [
       "array([[1, 2],\n",
       "       [4, 5]])"
      ]
     },
     "execution_count": 30,
     "metadata": {},
     "output_type": "execute_result"
    }
   ],
   "source": [
    "b[:2,1:3]"
   ]
  },
  {
   "cell_type": "code",
   "execution_count": null,
   "id": "af2492da",
   "metadata": {},
   "outputs": [],
   "source": []
  }
 ],
 "metadata": {
  "kernelspec": {
   "display_name": "Python 3 (ipykernel)",
   "language": "python",
   "name": "python3"
  },
  "language_info": {
   "codemirror_mode": {
    "name": "ipython",
    "version": 3
   },
   "file_extension": ".py",
   "mimetype": "text/x-python",
   "name": "python",
   "nbconvert_exporter": "python",
   "pygments_lexer": "ipython3",
   "version": "3.9.12"
  }
 },
 "nbformat": 4,
 "nbformat_minor": 5
}
