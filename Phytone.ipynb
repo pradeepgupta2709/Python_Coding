{
 "cells": [
  {
   "cell_type": "markdown",
   "id": "26c07dc6",
   "metadata": {},
   "source": [
    "<ul>Python<ul>"
   ]
  },
  {
   "cell_type": "markdown",
   "id": "3820f28c",
   "metadata": {},
   "source": [
    "<ul>      List-\n",
    "      1>List is a non-homogeneous data structure that stores the elements in single row and multiple rows and columns.\n",
    "      2>List can be represented by [ ]\n",
    "      3>List allows duplicate elements\n",
    "      4>List can be created using list() function\n",
    "      5>List is mutable i.e we can make any changes in list.\n",
    "      Example: [1, 2, 3, 4, 5]   <ul>"
   ]
  },
  {
   "cell_type": "code",
   "execution_count": null,
   "id": "47b30f74",
   "metadata": {},
   "outputs": [],
   "source": [
    "#List-\n",
    "     1>List is a non-homogeneous data structure that stores the elements in single row and multiple rows and columns.\n",
    "     2>List can be represented by [ ] \n",
    "     3>List allows duplicate elements \n",
    "     4>List can be created using list() function \n",
    "     5>List is mutable i.e we can make any changes in list. Example: [1, 2, 3, 4, 5]\n"
   ]
  },
  {
   "cell_type": "code",
   "execution_count": null,
   "id": "4d92b0d2",
   "metadata": {},
   "outputs": [],
   "source": [
    "#Tuple-\n",
    "       1>Tuple is also a non-homogeneous data structure that stores single row and multiple rows and columns\n",
    "       2>Tuple can be represented by ()\n",
    "       3>Tuple allows duplicate elements\n",
    "       4>Tuple can be created using tuple() function\n",
    "       5>Tuple  is immutable i.e we can not make any changes in tuple\n",
    "       Example: (1, 2, 3, 4, 5)"
   ]
  },
  {
   "cell_type": "code",
   "execution_count": null,
   "id": "a640316f",
   "metadata": {},
   "outputs": [],
   "source": [
    "#sets-\n",
    "      1>Set data structure is also non-homogeneous data structure but stores in single row\n",
    "      2>Set can be represented by { }\n",
    "      3>Set will not allow duplicate elements\n",
    "      4>Set can be created using set() function\n",
    "      5>Set is mutable i.e we can make any changes in set. But elements are not duplicated.\n",
    "      Example: {1, 2, 3, 4, 5}"
   ]
  },
  {
   "cell_type": "code",
   "execution_count": null,
   "id": "281c4b11",
   "metadata": {},
   "outputs": [],
   "source": [
    "#Dictionary-\n",
    "      1>Dictionary  is also non-homogeneous data structure but stores in single row\n",
    "      2>Dictionary can be represented by { }\n",
    "      3>Set will not allow duplicate elements and dictionary doesn’t allow duplicate keys.\n",
    "      4>Dictionary can be created using dict() function.\n",
    "      5>Dictionary is mutable. But Keys are not duplicated.\n",
    "      Example: {1, 2, 3, 4, 5}"
   ]
  },
  {
   "cell_type": "code",
   "execution_count": 1,
   "id": "a7f4c4b1",
   "metadata": {},
   "outputs": [
    {
     "data": {
      "text/plain": [
       "9"
      ]
     },
     "execution_count": 1,
     "metadata": {},
     "output_type": "execute_result"
    }
   ],
   "source": [
    "3**2"
   ]
  },
  {
   "cell_type": "code",
   "execution_count": 3,
   "id": "b6d50927",
   "metadata": {},
   "outputs": [
    {
     "data": {
      "text/plain": [
       "1"
      ]
     },
     "execution_count": 3,
     "metadata": {},
     "output_type": "execute_result"
    }
   ],
   "source": [
    "231%10"
   ]
  },
  {
   "cell_type": "code",
   "execution_count": 4,
   "id": "3b140a3e",
   "metadata": {},
   "outputs": [
    {
     "data": {
      "text/plain": [
       "23"
      ]
     },
     "execution_count": 4,
     "metadata": {},
     "output_type": "execute_result"
    }
   ],
   "source": [
    "231//10"
   ]
  },
  {
   "cell_type": "code",
   "execution_count": 24,
   "id": "e1cd4d01",
   "metadata": {},
   "outputs": [
    {
     "name": "stdout",
     "output_type": "stream",
     "text": [
      "234\n",
      "24\n"
     ]
    }
   ],
   "source": [
    "#234=2*3*4=24\n",
    "i=int(input())\n",
    "while i>0:\n",
    "    prod=prod*(i%10)\n",
    "    i=i//10\n",
    "print(prod)"
   ]
  },
  {
   "cell_type": "code",
   "execution_count": 2,
   "id": "ef17e1e8",
   "metadata": {},
   "outputs": [
    {
     "name": "stdout",
     "output_type": "stream",
     "text": [
      "231\n",
      "36\n"
     ]
    }
   ],
   "source": [
    "#EX-231-(2^3+3^3+1^3)=36\n",
    "i=int(input())\n",
    "sum=0\n",
    "while i >0:\n",
    "    sum=sum+(i%10)**3\n",
    "    i=i//10\n",
    "print(sum)"
   ]
  },
  {
   "cell_type": "code",
   "execution_count": 14,
   "id": "12c0abfa",
   "metadata": {},
   "outputs": [
    {
     "name": "stdout",
     "output_type": "stream",
     "text": [
      "153\n",
      "Amstrang\n"
     ]
    }
   ],
   "source": [
    "#Amstrang no -153-1^3+5^3+3^3=153-yes\n",
    "i=int(input())\n",
    "count=0\n",
    "n=i\n",
    "while (i>0):\n",
    "    i=i//10\n",
    "    count=count+1\n",
    "sum=0\n",
    "i=n\n",
    "while(i>0):\n",
    "    digit=i%10\n",
    "    x=1\n",
    "    prod=1\n",
    "    while(x<=count):\n",
    "        prod=prod*digit\n",
    "        x=x+1\n",
    "    sum=sum+prod\n",
    "    i=i//10\n",
    "if n==sum:\n",
    "    print('Amstrang')\n",
    "else:\n",
    "    print('No')"
   ]
  },
  {
   "cell_type": "code",
   "execution_count": 23,
   "id": "c30d9f64",
   "metadata": {},
   "outputs": [
    {
     "name": "stdout",
     "output_type": "stream",
     "text": [
      "153\n",
      "yes\n"
     ]
    }
   ],
   "source": [
    "#Amstrang no -153-1^3+5^3+3^3=153-yes\n",
    "i=int(input())\n",
    "n=i\n",
    "count=0\n",
    "while(i>0):\n",
    "    i=i//10\n",
    "    count=count+1\n",
    "i=n\n",
    "sum=0\n",
    "while (i>0):\n",
    "    sum=sum+(i%10)**count\n",
    "    i=i//10\n",
    "if n == sum:\n",
    "    print('yes')\n",
    "else:\n",
    "    print('no')"
   ]
  },
  {
   "cell_type": "code",
   "execution_count": 25,
   "id": "d4dcaef9",
   "metadata": {},
   "outputs": [
    {
     "name": "stdout",
     "output_type": "stream",
     "text": [
      "237\n",
      "732\n"
     ]
    }
   ],
   "source": [
    "#Reverse-237=732\n",
    "i=int(input())\n",
    "rev=0\n",
    "while i>0:\n",
    "    rev=(rev*10)+(i%10)\n",
    "    i=i//10\n",
    "print(rev)"
   ]
  },
  {
   "cell_type": "code",
   "execution_count": 26,
   "id": "d1fe7f54",
   "metadata": {},
   "outputs": [
    {
     "name": "stdout",
     "output_type": "stream",
     "text": [
      "525\n",
      "Palidrome no\n"
     ]
    }
   ],
   "source": [
    "#palidrome no-525-525\n",
    "i=int(input())\n",
    "rev=0\n",
    "n=i\n",
    "while i >0:\n",
    "    rev=(rev*10)+(i%10)\n",
    "    i=i//10\n",
    "if (rev==n):\n",
    "    print(\"Palidrome no\")\n",
    "else:\n",
    "    print(\"Not A Palidrome no\")"
   ]
  },
  {
   "cell_type": "code",
   "execution_count": 27,
   "id": "7eec061d",
   "metadata": {},
   "outputs": [
    {
     "name": "stdout",
     "output_type": "stream",
     "text": [
      "13\n",
      "This is prime no\n"
     ]
    }
   ],
   "source": [
    "#Check given no prime or not ;Ex-13=13 can be divide by 1 and 13 only\n",
    "n=int(input())\n",
    "i=1\n",
    "count=0\n",
    "while n >= i:\n",
    "    if n%i ==0:\n",
    "        count=count+1\n",
    "    i=i+1\n",
    "if count==2:\n",
    "    print('This is prime no')\n",
    "else:\n",
    "    print('composite no')"
   ]
  },
  {
   "cell_type": "code",
   "execution_count": null,
   "id": "bfa139fe",
   "metadata": {},
   "outputs": [],
   "source": []
  }
 ],
 "metadata": {
  "kernelspec": {
   "display_name": "Python 3 (ipykernel)",
   "language": "python",
   "name": "python3"
  },
  "language_info": {
   "codemirror_mode": {
    "name": "ipython",
    "version": 3
   },
   "file_extension": ".py",
   "mimetype": "text/x-python",
   "name": "python",
   "nbconvert_exporter": "python",
   "pygments_lexer": "ipython3",
   "version": "3.9.12"
  }
 },
 "nbformat": 4,
 "nbformat_minor": 5
}
