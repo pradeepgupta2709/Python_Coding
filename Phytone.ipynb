{
 "cells": [
  {
   "cell_type": "markdown",
   "id": "26c07dc6",
   "metadata": {},
   "source": [
    "<ul>Python<ul>"
   ]
  },
  {
   "cell_type": "markdown",
   "id": "3820f28c",
   "metadata": {},
   "source": [
    "<ul>      List-\n",
    "      1>List is a non-homogeneous data structure that stores the elements in single row and multiple rows and columns.\n",
    "      2>List can be represented by [ ]\n",
    "      3>List allows duplicate elements\n",
    "      4>List can be created using list() function\n",
    "      5>List is mutable i.e we can make any changes in list.\n",
    "      Example: [1, 2, 3, 4, 5]   <ul>"
   ]
  },
  {
   "cell_type": "code",
   "execution_count": null,
   "id": "47b30f74",
   "metadata": {},
   "outputs": [],
   "source": [
    "#List-\n",
    "     1>List is a non-homogeneous data structure that stores the elements in single row and multiple rows and columns.\n",
    "     2>List can be represented by [ ] \n",
    "     3>List allows duplicate elements \n",
    "     4>List can be created using list() function \n",
    "     5>List is mutable i.e we can make any changes in list. Example: [1, 2, 3, 4, 5]\n"
   ]
  },
  {
   "cell_type": "code",
   "execution_count": null,
   "id": "4d92b0d2",
   "metadata": {},
   "outputs": [],
   "source": [
    "#Tuple-\n",
    "       1>Tuple is also a non-homogeneous data structure that stores single row and multiple rows and columns\n",
    "       2>Tuple can be represented by ()\n",
    "       3>Tuple allows duplicate elements\n",
    "       4>Tuple can be created using tuple() function\n",
    "       5>Tuple  is immutable i.e we can not make any changes in tuple\n",
    "       Example: (1, 2, 3, 4, 5)"
   ]
  },
  {
   "cell_type": "code",
   "execution_count": null,
   "id": "a640316f",
   "metadata": {},
   "outputs": [],
   "source": [
    "#sets-\n",
    "      1>Set data structure is also non-homogeneous data structure but stores in single row\n",
    "      2>Set can be represented by { }\n",
    "      3>Set will not allow duplicate elements\n",
    "      4>Set can be created using set() function\n",
    "      5>Set is mutable i.e we can make any changes in set. But elements are not duplicated.\n",
    "      Example: {1, 2, 3, 4, 5}"
   ]
  },
  {
   "cell_type": "code",
   "execution_count": null,
   "id": "281c4b11",
   "metadata": {},
   "outputs": [],
   "source": [
    "#Dictionary-\n",
    "      1>Dictionary  is also non-homogeneous data structure but stores in single row\n",
    "      2>Dictionary can be represented by { }\n",
    "      3>Set will not allow duplicate elements and dictionary doesn’t allow duplicate keys.\n",
    "      4>Dictionary can be created using dict() function.\n",
    "      5>Dictionary is mutable. But Keys are not duplicated.\n",
    "      Example: {1, 2, 3, 4, 5}"
   ]
  },
  {
   "cell_type": "code",
   "execution_count": 1,
   "id": "a7f4c4b1",
   "metadata": {},
   "outputs": [
    {
     "data": {
      "text/plain": [
       "9"
      ]
     },
     "execution_count": 1,
     "metadata": {},
     "output_type": "execute_result"
    }
   ],
   "source": [
    "3**2"
   ]
  },
  {
   "cell_type": "code",
   "execution_count": 3,
   "id": "b6d50927",
   "metadata": {},
   "outputs": [
    {
     "data": {
      "text/plain": [
       "1"
      ]
     },
     "execution_count": 3,
     "metadata": {},
     "output_type": "execute_result"
    }
   ],
   "source": [
    "231%10"
   ]
  },
  {
   "cell_type": "code",
   "execution_count": 4,
   "id": "3b140a3e",
   "metadata": {},
   "outputs": [
    {
     "data": {
      "text/plain": [
       "23"
      ]
     },
     "execution_count": 4,
     "metadata": {},
     "output_type": "execute_result"
    }
   ],
   "source": [
    "231//10"
   ]
  },
  {
   "cell_type": "code",
   "execution_count": 24,
   "id": "e1cd4d01",
   "metadata": {},
   "outputs": [
    {
     "name": "stdout",
     "output_type": "stream",
     "text": [
      "234\n",
      "24\n"
     ]
    }
   ],
   "source": [
    "#234=2*3*4=24\n",
    "i=int(input())\n",
    "while i>0:\n",
    "    prod=prod*(i%10)\n",
    "    i=i//10\n",
    "print(prod)"
   ]
  },
  {
   "cell_type": "code",
   "execution_count": 2,
   "id": "ef17e1e8",
   "metadata": {},
   "outputs": [
    {
     "name": "stdout",
     "output_type": "stream",
     "text": [
      "231\n",
      "36\n"
     ]
    }
   ],
   "source": [
    "#EX-231-(2^3+3^3+1^3)=36\n",
    "i=int(input())\n",
    "sum=0\n",
    "while i >0:\n",
    "    sum=sum+(i%10)**3\n",
    "    i=i//10\n",
    "print(sum)"
   ]
  },
  {
   "cell_type": "code",
   "execution_count": 14,
   "id": "12c0abfa",
   "metadata": {},
   "outputs": [
    {
     "name": "stdout",
     "output_type": "stream",
     "text": [
      "153\n",
      "Amstrang\n"
     ]
    }
   ],
   "source": [
    "#Amstrang no -153-1^3+5^3+3^3=153-yes\n",
    "i=int(input())\n",
    "count=0\n",
    "n=i\n",
    "while (i>0):\n",
    "    i=i//10\n",
    "    count=count+1\n",
    "sum=0\n",
    "i=n\n",
    "while(i>0):\n",
    "    digit=i%10\n",
    "    x=1\n",
    "    prod=1\n",
    "    while(x<=count):\n",
    "        prod=prod*digit\n",
    "        x=x+1\n",
    "    sum=sum+prod\n",
    "    i=i//10\n",
    "if n==sum:\n",
    "    print('Amstrang')\n",
    "else:\n",
    "    print('No')"
   ]
  },
  {
   "cell_type": "code",
   "execution_count": 23,
   "id": "c30d9f64",
   "metadata": {},
   "outputs": [
    {
     "name": "stdout",
     "output_type": "stream",
     "text": [
      "153\n",
      "yes\n"
     ]
    }
   ],
   "source": [
    "#Amstrang no -153-1^3+5^3+3^3=153-yes\n",
    "i=int(input())\n",
    "n=i\n",
    "count=0\n",
    "while(i>0):\n",
    "    i=i//10\n",
    "    count=count+1\n",
    "i=n\n",
    "sum=0\n",
    "while (i>0):\n",
    "    sum=sum+(i%10)**count\n",
    "    i=i//10\n",
    "if n == sum:\n",
    "    print('yes')\n",
    "else:\n",
    "    print('no')"
   ]
  },
  {
   "cell_type": "code",
   "execution_count": 25,
   "id": "d4dcaef9",
   "metadata": {},
   "outputs": [
    {
     "name": "stdout",
     "output_type": "stream",
     "text": [
      "237\n",
      "732\n"
     ]
    }
   ],
   "source": [
    "#Reverse-237=732\n",
    "i=int(input())\n",
    "rev=0\n",
    "while i>0:\n",
    "    rev=(rev*10)+(i%10)\n",
    "    i=i//10\n",
    "print(rev)"
   ]
  },
  {
   "cell_type": "code",
   "execution_count": 26,
   "id": "d1fe7f54",
   "metadata": {},
   "outputs": [
    {
     "name": "stdout",
     "output_type": "stream",
     "text": [
      "525\n",
      "Palidrome no\n"
     ]
    }
   ],
   "source": [
    "#palidrome no-525-525\n",
    "i=int(input())\n",
    "rev=0\n",
    "n=i\n",
    "while i >0:\n",
    "    rev=(rev*10)+(i%10)\n",
    "    i=i//10\n",
    "if (rev==n):\n",
    "    print(\"Palidrome no\")\n",
    "else:\n",
    "    print(\"Not A Palidrome no\")"
   ]
  },
  {
   "cell_type": "code",
   "execution_count": 27,
   "id": "7eec061d",
   "metadata": {},
   "outputs": [
    {
     "name": "stdout",
     "output_type": "stream",
     "text": [
      "13\n",
      "This is prime no\n"
     ]
    }
   ],
   "source": [
    "#Check given no prime or not ;Ex-13=13 can be divide by 1 and 13 only\n",
    "n=int(input())\n",
    "i=1\n",
    "count=0\n",
    "while n >= i:\n",
    "    if n%i ==0:\n",
    "        count=count+1\n",
    "    i=i+1\n",
    "if count==2:\n",
    "    print('This is prime no')\n",
    "else:\n",
    "    print('composite no')"
   ]
  },
  {
   "cell_type": "code",
   "execution_count": 1,
   "id": "bfa139fe",
   "metadata": {},
   "outputs": [
    {
     "name": "stdout",
     "output_type": "stream",
     "text": [
      "5\n",
      "120\n"
     ]
    }
   ],
   "source": [
    "#Factorical-Ex-5=5*4*3*2*1\n",
    "i=int(input())\n",
    "F=1\n",
    "while i>0:\n",
    "    F=F*(i%10)\n",
    "    i=i-1\n",
    "print(F)"
   ]
  },
  {
   "cell_type": "code",
   "execution_count": 2,
   "id": "0bec1d9b",
   "metadata": {},
   "outputs": [
    {
     "name": "stdout",
     "output_type": "stream",
     "text": [
      "* * * * * \n",
      "* * * * \n",
      "* * * \n",
      "* * \n",
      "* \n"
     ]
    }
   ],
   "source": [
    "#Nasted Loop for Star pattern\n",
    "i=5\n",
    "while i>0:\n",
    "    j=1\n",
    "    while j<=i:\n",
    "        print(\"*\",end=\" \")\n",
    "        j=j+1\n",
    "    print()\n",
    "    i=i-1"
   ]
  },
  {
   "cell_type": "code",
   "execution_count": 3,
   "id": "d83fb399",
   "metadata": {},
   "outputs": [
    {
     "name": "stdout",
     "output_type": "stream",
     "text": [
      "\n",
      "* \n",
      "* * \n",
      "* * * \n",
      "* * * * \n",
      "* * * * * \n"
     ]
    }
   ],
   "source": [
    "n=5\n",
    "for i in range(n+1):\n",
    "    for j in range(i):\n",
    "        print('*',end=' ')\n",
    "    print( )"
   ]
  },
  {
   "cell_type": "code",
   "execution_count": 4,
   "id": "0751b0ae",
   "metadata": {},
   "outputs": [
    {
     "name": "stdout",
     "output_type": "stream",
     "text": [
      "* \n",
      "* * \n",
      "* * * \n",
      "* * * * \n",
      "* * * * * \n"
     ]
    }
   ],
   "source": [
    "#Nasted Loop for Star pattern\n",
    "i=1\n",
    "while i <=5:\n",
    "    j=1\n",
    "    while j<=i:\n",
    "        print(\"*\",end=\" \")\n",
    "        j=j+1\n",
    "    print()\n",
    "    i=i+1"
   ]
  },
  {
   "cell_type": "code",
   "execution_count": 5,
   "id": "c5625bb5",
   "metadata": {},
   "outputs": [
    {
     "name": "stdout",
     "output_type": "stream",
     "text": [
      "      * \n",
      "      * * \n",
      "      * * * \n",
      "      * * * * \n",
      "      * * * * * \n"
     ]
    }
   ],
   "source": [
    "n=5\n",
    "for i in range(n):\n",
    "    for j in range(1,n-1):\n",
    "        print(\" \",end =\" \")\n",
    "    for k in range(0,i+1):\n",
    "        print(\"*\",end=' ')\n",
    "    print( )"
   ]
  },
  {
   "cell_type": "code",
   "execution_count": 6,
   "id": "533ad292",
   "metadata": {},
   "outputs": [
    {
     "name": "stdout",
     "output_type": "stream",
     "text": [
      "1 \n",
      "1 2 \n",
      "1 2 3 \n",
      "1 2 3 4 \n",
      "1 2 3 4 5 \n"
     ]
    }
   ],
   "source": [
    "i=1\n",
    "while i<=5:\n",
    "    j=1\n",
    "    while j<=i:\n",
    "        print(j,end=\" \")\n",
    "        j=j+1\n",
    "    print()\n",
    "    i=i+1"
   ]
  },
  {
   "cell_type": "code",
   "execution_count": 7,
   "id": "fb631b91",
   "metadata": {},
   "outputs": [
    {
     "name": "stdout",
     "output_type": "stream",
     "text": [
      "1 \n",
      "2 2 \n",
      "3 3 3 \n",
      "4 4 4 4 \n",
      "5 5 5 5 5 \n"
     ]
    }
   ],
   "source": [
    "i=1\n",
    "while i<=5:\n",
    "    j=1\n",
    "    while j<=i:\n",
    "        print(i,end=\" \")\n",
    "        j+=1\n",
    "    print()\n",
    "    i+=1"
   ]
  },
  {
   "cell_type": "code",
   "execution_count": 8,
   "id": "224c7f63",
   "metadata": {},
   "outputs": [
    {
     "name": "stdout",
     "output_type": "stream",
     "text": [
      "- - - - * \n",
      "- - - * * \n",
      "- - * * * \n",
      "- * * * * \n",
      "* * * * * \n"
     ]
    }
   ],
   "source": [
    "i=1\n",
    "while i<=5:\n",
    "    b=1\n",
    "    while (b<=5-i):\n",
    "        print(\"-\",end=\" \")\n",
    "        b+=1\n",
    "    j=1\n",
    "    while j<=i:\n",
    "        print(\"*\",end=\" \")\n",
    "        j+=1\n",
    "    print()\n",
    "    i+=1 "
   ]
  },
  {
   "cell_type": "code",
   "execution_count": 9,
   "id": "041acf54",
   "metadata": {},
   "outputs": [
    {
     "name": "stdout",
     "output_type": "stream",
     "text": [
      "- - - - 1 \n",
      "- - - 1 2 \n",
      "- - 1 2 3 \n",
      "- 1 2 3 4 \n",
      "1 2 3 4 5 \n"
     ]
    }
   ],
   "source": [
    "i=1\n",
    "\n",
    "while i<=5:\n",
    "    b=1\n",
    "    while b<=(5-i):\n",
    "        print(\"-\",end=\" \")\n",
    "        b+=1\n",
    "   \n",
    "    j=1\n",
    "    while j<=i:\n",
    "        print(j,end=\" \")\n",
    "        j+=1\n",
    "    print()\n",
    "    i+=1"
   ]
  },
  {
   "cell_type": "code",
   "execution_count": 10,
   "id": "eb30a58a",
   "metadata": {},
   "outputs": [
    {
     "name": "stdout",
     "output_type": "stream",
     "text": [
      "- - - - 1 \n",
      "- - - 2 2 \n",
      "- - 3 3 3 \n",
      "- 4 4 4 4 \n",
      "5 5 5 5 5 \n"
     ]
    }
   ],
   "source": [
    "i=1\n",
    "\n",
    "while i<=5:\n",
    "    b=1\n",
    "    while b<=(5-i):\n",
    "        print(\"-\",end=\" \")\n",
    "        b+=1\n",
    "   \n",
    "    j=1\n",
    "    while j<=i:\n",
    "        print(i,end=\" \")\n",
    "        j+=1\n",
    "    print()\n",
    "    i+=1"
   ]
  },
  {
   "cell_type": "code",
   "execution_count": 11,
   "id": "2e126df8",
   "metadata": {},
   "outputs": [
    {
     "name": "stdout",
     "output_type": "stream",
     "text": [
      "* * * * _ \n",
      "* * * _ _ \n",
      "* * _ _ _ \n",
      "* _ _ _ _ \n"
     ]
    }
   ],
   "source": [
    "i=5\n",
    "while i>0:\n",
    "    j=1\n",
    "    while j< i:\n",
    "        print(\"*\",end=\" \")\n",
    "        j+=1\n",
    "   \n",
    "    b=1\n",
    "    if i==1:\n",
    "        break\n",
    "    while b<=(6-i):\n",
    "        print(\"_\",end=\" \")\n",
    "        b+=1\n",
    "    print()\n",
    "    i-=1"
   ]
  },
  {
   "cell_type": "code",
   "execution_count": 1,
   "id": "7095bc75",
   "metadata": {},
   "outputs": [
    {
     "name": "stdout",
     "output_type": "stream",
     "text": [
      "5\n",
      "* * * * * \n",
      "* * * * * \n",
      "* * * * * \n",
      "* * * * * \n",
      "* * * * * \n"
     ]
    }
   ],
   "source": [
    "#square pattern\n",
    "n=int(input())\n",
    "for i in range(n):\n",
    "    for j in range(n):\n",
    "        print('*',end=\" \")\n",
    "    \n",
    "    print()"
   ]
  },
  {
   "cell_type": "code",
   "execution_count": 2,
   "id": "3c6e2583",
   "metadata": {},
   "outputs": [
    {
     "name": "stdout",
     "output_type": "stream",
     "text": [
      "5\n",
      "* * * * * \n",
      "*       * \n",
      "*       * \n",
      "*       * \n",
      "* * * * * \n"
     ]
    }
   ],
   "source": [
    "#hollow pattern\n",
    "n=int(input())\n",
    "for i in range(n):\n",
    "    for j in range(n):\n",
    "        if i== 0 or i==n-1 or j==0 or j==n-1:\n",
    "            print('*',end=\" \")\n",
    "        else:\n",
    "            print(' ',end=\" \")\n",
    "    print()"
   ]
  },
  {
   "cell_type": "code",
   "execution_count": 5,
   "id": "019f7935",
   "metadata": {},
   "outputs": [
    {
     "name": "stdout",
     "output_type": "stream",
     "text": [
      "night,sight,kj,ol\n",
      "night,sight,kj,ol\n",
      "['night', 'sight', 'kj', 'ol']\n",
      "['ol', 'kj', 'sight', 'night']\n",
      "ol ,kj ,sight ,night\n"
     ]
    }
   ],
   "source": [
    "#Reverse the alphabet order\n",
    "x=input()\n",
    "#keep input in same formte as inside of bracket in split\n",
    "y=x.split(',')\n",
    "z=y[::-1]\n",
    "#keep input in same formte as inside of curly brackets in join\n",
    "q=\" ,\".join(z)\n",
    "print(x)\n",
    "print(y)\n",
    "print(z)\n",
    "print(q)\n"
   ]
  },
  {
   "cell_type": "code",
   "execution_count": 6,
   "id": "d6cc39d6",
   "metadata": {},
   "outputs": [
    {
     "name": "stdout",
     "output_type": "stream",
     "text": [
      "i love u hgf\n",
      "I love u hgf\n",
      "['I', 'love', 'u', 'hgf']\n",
      "I_love_u_hgf\n"
     ]
    }
   ],
   "source": [
    "x=input()\n",
    "x=x.capitalize()\n",
    "z=x.split(' ')\n",
    "q='_'.join(z)\n",
    "print(x)\n",
    "print(z)\n",
    "print(q)"
   ]
  },
  {
   "cell_type": "code",
   "execution_count": 7,
   "id": "7d1a2f62",
   "metadata": {},
   "outputs": [
    {
     "name": "stdout",
     "output_type": "stream",
     "text": [
      "HJJJK\n",
      "hjjjk\n",
      "kjjjh\n",
      "Not at all\n"
     ]
    }
   ],
   "source": [
    "#Reverse order \n",
    "x=input()\n",
    "x=x.lower()\n",
    "y=x[::-1]\n",
    "print(x)\n",
    "print(y)\n",
    "if x==y:\n",
    "    print(\"Palidrome\")\n",
    "else:\n",
    "    print ('Not at all')"
   ]
  },
  {
   "cell_type": "code",
   "execution_count": 8,
   "id": "a5ef7fd1",
   "metadata": {},
   "outputs": [
    {
     "name": "stdout",
     "output_type": "stream",
     "text": [
      "hmh\n",
      "HMH\n",
      "plaidrome\n"
     ]
    }
   ],
   "source": [
    "s1=input().lower()\n",
    "s2=input().lower()\n",
    "if (sorted(s1)==sorted(s2)):\n",
    "    print('plaidrome')\n",
    "else:\n",
    "    print('no')"
   ]
  },
  {
   "cell_type": "code",
   "execution_count": 9,
   "id": "1c8d81ee",
   "metadata": {},
   "outputs": [
    {
     "name": "stdout",
     "output_type": "stream",
     "text": [
      "upgrad\n",
      "upgardyui\n"
     ]
    },
    {
     "data": {
      "text/plain": [
       "'upgrad'"
      ]
     },
     "execution_count": 9,
     "metadata": {},
     "output_type": "execute_result"
    }
   ],
   "source": [
    "s1=input().lower()\n",
    "s2=input().lower()\n",
    "x=[]\n",
    "for i in range (min(len(s1),len(s2))):\n",
    "    x.append(s1[i])\n",
    "\"\".join(x)\n"
   ]
  },
  {
   "cell_type": "code",
   "execution_count": 10,
   "id": "f94869de",
   "metadata": {},
   "outputs": [
    {
     "name": "stdout",
     "output_type": "stream",
     "text": [
      "upgard\n",
      "upgardscience\n",
      "upgard\n"
     ]
    }
   ],
   "source": [
    "s1=input().lower()\n",
    "s2=input().lower()\n",
    "for i in range (min(len(s1),(len(s2)))):\n",
    "    if s1[i]!=s2[i]:\n",
    "        break\n",
    "if s1[i]!=0:\n",
    "    print(s1[ : i+1])"
   ]
  },
  {
   "cell_type": "code",
   "execution_count": 11,
   "id": "1cb78d05",
   "metadata": {},
   "outputs": [
    {
     "name": "stdout",
     "output_type": "stream",
     "text": [
      "school\n",
      "child\n",
      "Before swaping school\n",
      "Before swaping child\n",
      "\n",
      "\n",
      "After swaping child\n",
      "After swaping school\n"
     ]
    }
   ],
   "source": [
    "#swapping\n",
    "x=input()\n",
    "y=input()\n",
    "print('Before swaping',x)\n",
    "print('Before swaping',y)\n",
    "\n",
    "z=x\n",
    "x=y\n",
    "y=z\n",
    "print()\n",
    "print()\n",
    "\n",
    "print('After swaping',x)\n",
    "print('After swaping',y)\n"
   ]
  },
  {
   "cell_type": "code",
   "execution_count": 12,
   "id": "108c0e9d",
   "metadata": {},
   "outputs": [
    {
     "name": "stdout",
     "output_type": "stream",
     "text": [
      "6\n",
      "Even\n"
     ]
    }
   ],
   "source": [
    "#Even and odd\n",
    "x=int(input())\n",
    "if x % 2==0:\n",
    "    print(\"Even\")\n",
    "else:\n",
    "    print('odd')"
   ]
  },
  {
   "cell_type": "code",
   "execution_count": 14,
   "id": "a96970e7",
   "metadata": {},
   "outputs": [
    {
     "name": "stdout",
     "output_type": "stream",
     "text": [
      "50\n",
      "Bhoot\n"
     ]
    }
   ],
   "source": [
    "x=int(input())\n",
    "if x%3==0:\n",
    "    print('Beautifull')\n",
    "elif x%3==1:\n",
    "    print('Just ok')\n",
    "else:\n",
    "    print('Bhoot')"
   ]
  },
  {
   "cell_type": "code",
   "execution_count": 16,
   "id": "6e05b183",
   "metadata": {},
   "outputs": [
    {
     "name": "stdout",
     "output_type": "stream",
     "text": [
      "5\n",
      "120\n"
     ]
    }
   ],
   "source": [
    "no=int(input())\n",
    "def factorial(x):\n",
    "    if x<0:\n",
    "        return -1\n",
    "    else:\n",
    "        F=1\n",
    "        for i in range (1,x+1):\n",
    "            F=F*i\n",
    "        return F\n",
    "k=factorial(no)\n",
    "print(k)"
   ]
  },
  {
   "cell_type": "code",
   "execution_count": 17,
   "id": "c7d74ff2",
   "metadata": {},
   "outputs": [
    {
     "name": "stdout",
     "output_type": "stream",
     "text": [
      "[1, 2, 3, 4]\n",
      "3\n"
     ]
    },
    {
     "data": {
      "text/plain": [
       "False"
      ]
     },
     "execution_count": 17,
     "metadata": {},
     "output_type": "execute_result"
    }
   ],
   "source": [
    "L=[i for i in range (1,5)]\n",
    "print(L)\n",
    "print(L.index(4))\n",
    "k=10 in L\n",
    "k"
   ]
  },
  {
   "cell_type": "code",
   "execution_count": null,
   "id": "eb248a0e",
   "metadata": {},
   "outputs": [],
   "source": []
  }
 ],
 "metadata": {
  "kernelspec": {
   "display_name": "Python 3 (ipykernel)",
   "language": "python",
   "name": "python3"
  },
  "language_info": {
   "codemirror_mode": {
    "name": "ipython",
    "version": 3
   },
   "file_extension": ".py",
   "mimetype": "text/x-python",
   "name": "python",
   "nbconvert_exporter": "python",
   "pygments_lexer": "ipython3",
   "version": "3.9.12"
  }
 },
 "nbformat": 4,
 "nbformat_minor": 5
}
